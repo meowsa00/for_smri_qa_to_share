{
 "cells": [
  {
   "cell_type": "code",
   "execution_count": 1,
   "id": "180bae01-6b0d-4a3c-ba27-3defef3f5934",
   "metadata": {},
   "outputs": [],
   "source": [
    "from time import sleep\n",
    "import requests\n",
    "from bs4 import BeautifulSoup\n",
    "import lxml\n",
    "import pandas as pd"
   ]
  },
  {
   "cell_type": "code",
   "execution_count": 2,
   "id": "306a538a-c42b-41ed-a401-cc173553cb47",
   "metadata": {},
   "outputs": [],
   "source": [
    "url = \"http://oldiesbutgoodies-records.com/?mode=cate&cbid=239269&csid=1&sort=n\"\n",
    "r = requests.get(url)\n",
    "r.raise_for_status()"
   ]
  },
  {
   "cell_type": "code",
   "execution_count": 3,
   "id": "d0734e01-0162-458c-b56b-ef71998c3677",
   "metadata": {},
   "outputs": [],
   "source": [
    "soup = BeautifulSoup(r.content,\"lxml\")"
   ]
  },
  {
   "cell_type": "code",
   "execution_count": 4,
   "id": "33ca27a6-cb1b-40d8-bb3a-cdb9ac05fdc2",
   "metadata": {},
   "outputs": [],
   "source": [
    "name_blocks = soup.find_all(\"div\",class_=\"name\")\n",
    "price_blocks = soup.find_all(\"div\",class_=\"price\")"
   ]
  },
  {
   "cell_type": "code",
   "execution_count": 7,
   "id": "fd1c36e8-4fc1-4ddf-90d6-72a3783d6f53",
   "metadata": {},
   "outputs": [
    {
     "name": "stdout",
     "output_type": "stream",
     "text": [
      "Derrick Morgan\n",
      "Derrick Morgan\n",
      "2,800円(税込)\n",
      "Magic Notes\n",
      "Magic Notes\n",
      "2,800円(税込)\n",
      "The School Boys\n",
      "The School Boys\n",
      "2,800円(税込)\n",
      "Eric Morris\n",
      "Eric Morris\n",
      "2,800円(税込)\n",
      "Eric Morris\n",
      "Eric Morris\n",
      "2,800円(税込)\n",
      "Lloyd & Cecil\n",
      "Lloyd & Cecil\n",
      "2,800円(税込)\n",
      "Buster's All Stars\n",
      "Buster's All Stars\n",
      "2,800円(税込)\n",
      "Laurel Aitken\n",
      "Laurel Aitken\n",
      "2,800円(税込)\n",
      "Prince Buster\n",
      "Prince Buster\n",
      "2,800円(税込)\n",
      "Derrick Morgan\n",
      "Derrick Morgan\n",
      "2,800円(税込)\n",
      "Laurel Aitken\n",
      "Laurel Aitken\n",
      "2,800円(税込)\n",
      "Mellow Larks\n",
      "Mellow Larks\n",
      "2,800円(税込)\n",
      "Prince Buster\n",
      "Prince Buster\n",
      "2,800円(税込)\n",
      "Owen Gray & His Big Brother\n",
      "Owen Gray & His Big Brother\n",
      "2,800円(税込)\n",
      "Derrick & Patsy\n",
      "Derrick & Patsy\n",
      "2,800円(税込)\n",
      "Derrick Morgan\n",
      "Derrick Morgan\n",
      "2,800円(税込)\n",
      "Prince Buster\n",
      "Prince Buster\n",
      "2,800円(税込)\n",
      "Derrick Morgan\n",
      "Derrick Morgan\n",
      "2,800円(税込)\n",
      "Derrick Morgan\n",
      "Derrick Morgan\n",
      "2,800円(税込)\n",
      "Prince Buster\n",
      "Prince Buster\n",
      "2,800円(税込)\n",
      "Mellow Larks\n",
      "Mellow Larks\n",
      "2,800円(税込)\n",
      "Eric Morris\n",
      "Eric Morris\n",
      "2,800円(税込)\n",
      "Prince Buster\n",
      "Prince Buster\n",
      "2,800円(税込)\n",
      "Owen Gray\n",
      "Owen Gray\n",
      "2,800円(税込)\n",
      "Al T.Joe\n",
      "Al T.Joe\n",
      "2,800円(税込)\n",
      "Martin & Derrick\n",
      "Martin & Derrick\n",
      "2,800円(税込)\n",
      "Basil Gabon\n",
      "Basil Gabon\n",
      "2,800円(税込)\n",
      "Denzil\n",
      "Denzil\n",
      "2,800円(税込)\n",
      "Prince Buster\n",
      "Prince Buster\n",
      "2,800円(税込)\n",
      "Martin & Derrick\n",
      "Martin & Derrick\n",
      "2,800円(税込)\n"
     ]
    }
   ],
   "source": [
    "for name_block in name_blocks:\n",
    "    tune_name = name_block.find(\"a\").find(\"b\").text\n",
    "    performer = name_block.find(\"a\").find(\"font\").find(\"b\").text\n",
    "    for price_block in price_blocks:\n",
    "        price = price_block.find(\"p\",class_=\"price_all\").text\n",
    "    print(tune_name)\n",
    "    print(performer)\n",
    "    print(price)"
   ]
  },
  {
   "cell_type": "code",
   "execution_count": 6,
   "id": "6b8b6e38-dfbd-418f-856d-2c7078ea3756",
   "metadata": {},
   "outputs": [
    {
     "name": "stdout",
     "output_type": "stream",
     "text": [
      "Derrick Morgan\n",
      "Magic Notes\n",
      "The School Boys\n",
      "Eric Morris\n",
      "Eric Morris\n",
      "Lloyd & Cecil\n",
      "Buster's All Stars\n",
      "Laurel Aitken\n",
      "Prince Buster\n",
      "Derrick Morgan\n",
      "Laurel Aitken\n",
      "Mellow Larks\n",
      "Prince Buster\n",
      "Owen Gray & His Big Brother\n",
      "Derrick & Patsy\n",
      "Derrick Morgan\n",
      "Prince Buster\n",
      "Derrick Morgan\n",
      "Derrick Morgan\n",
      "Prince Buster\n",
      "Mellow Larks\n",
      "Eric Morris\n",
      "Prince Buster\n",
      "Owen Gray\n",
      "Al T.Joe\n",
      "Martin & Derrick\n",
      "Basil Gabon\n",
      "Denzil\n",
      "Prince Buster\n",
      "Martin & Derrick\n"
     ]
    }
   ],
   "source": [
    "# # for name_block in name_blocks:\n",
    "#     tune_name_track_name = name_block.find(\"b\").text\n",
    "#     print(tune_name_track_name)\n",
    "    \n",
    "    "
   ]
  },
  {
   "cell_type": "code",
   "execution_count": 19,
   "id": "61ecf3ae-45ea-4957-b965-02b9bb4b2496",
   "metadata": {},
   "outputs": [
    {
     "ename": "IndentationError",
     "evalue": "unexpected indent (3631031505.py, line 2)",
     "output_type": "error",
     "traceback": [
      "\u001b[0;36m  File \u001b[0;32m\"/tmp/ipykernel_13402/3631031505.py\"\u001b[0;36m, line \u001b[0;32m2\u001b[0m\n\u001b[0;31m    print(i1.text)\u001b[0m\n\u001b[0m    ^\u001b[0m\n\u001b[0;31mIndentationError\u001b[0m\u001b[0;31m:\u001b[0m unexpected indent\n"
     ]
    }
   ],
   "source": [
    "#for i1 in items.find_all(\"b\"):\n",
    "    print(i1.text)"
   ]
  },
  {
   "cell_type": "code",
   "execution_count": 23,
   "id": "4ccb6c9f-5492-4712-8aaf-3b9c12129b86",
   "metadata": {},
   "outputs": [
    {
     "ename": "SyntaxError",
     "evalue": "invalid syntax (2490086425.py, line 1)",
     "output_type": "error",
     "traceback": [
      "\u001b[0;36m  File \u001b[0;32m\"/tmp/ipykernel_13402/2490086425.py\"\u001b[0;36m, line \u001b[0;32m1\u001b[0m\n\u001b[0;31m    where python\u001b[0m\n\u001b[0m          ^\u001b[0m\n\u001b[0;31mSyntaxError\u001b[0m\u001b[0;31m:\u001b[0m invalid syntax\n"
     ]
    }
   ],
   "source": [
    "where python"
   ]
  },
  {
   "cell_type": "code",
   "execution_count": null,
   "id": "1eba9114-bed6-4be5-a0dd-eeda767770fa",
   "metadata": {},
   "outputs": [],
   "source": []
  }
 ],
 "metadata": {
  "kernelspec": {
   "display_name": "Python 3 (ipykernel)",
   "language": "python",
   "name": "python3"
  },
  "language_info": {
   "codemirror_mode": {
    "name": "ipython",
    "version": 3
   },
   "file_extension": ".py",
   "mimetype": "text/x-python",
   "name": "python",
   "nbconvert_exporter": "python",
   "pygments_lexer": "ipython3",
   "version": "3.9.7"
  }
 },
 "nbformat": 4,
 "nbformat_minor": 5
}
