{
 "cells": [
  {
   "cell_type": "markdown",
   "id": "fcdb8a0b-e89f-4c34-901f-cc42f4a1c39d",
   "metadata": {},
   "source": [
    "https://www.lancers.jp/work/detail/3468971\n",
    "https://www.mizuhobank.co.jp/retail/takarakuji/check/numbers/backnumber/index.html\n",
    "\n",
    " #属性1つ\n",
    "    tag = soup.select(\"[name='test']\")\n",
    "    print(tag)\n",
    "\n",
    "    #属性2つ\n",
    "    tag = soup.select(\"[name='test'][value='1']\")\n",
    "    print(tag)\n",
    "\n",
    "    #属性2つにタグ指定あり\n",
    "    tag = soup.select(\"button[name='test'][value='1']\")\n",
    "    print(tag)\n",
    "    \n",
    "    driver_path = \"driver/chromedriver.exe\"\n",
    "\n",
    "# webdriverの作成\n",
    "#service = Service(executable_path=driver_path) # 2) executable_pathを指定\n",
    "#driver = webdriver.Chrome(service=service) #3) serviceを渡す"
   ]
  },
  {
   "cell_type": "code",
   "execution_count": 1,
   "id": "db7cacbc-9188-44f6-b72d-6429cbc04271",
   "metadata": {},
   "outputs": [],
   "source": [
    "from time import sleep,time\n",
    "from selenium import webdriver\n",
    "from selenium.webdriver.common.by import By\n",
    "from selenium.webdriver.common.keys import Keys\n",
    "from selenium.webdriver.chrome.service import Service"
   ]
  },
  {
   "cell_type": "code",
   "execution_count": 2,
   "id": "dadb0329-8611-4019-a167-72b8053ed6a5",
   "metadata": {},
   "outputs": [],
   "source": [
    "options = webdriver.ChromeOptions()\n",
    "#ヘッドレスモードでの使用\n",
    "#options.add_argument(\"--headless\")\n",
    "#シークレットモードでの使用\n",
    "options.add_argument(\"--incognito\")\n",
    "#user-agentの設定\n",
    "options.add_argument(\"--user-agent=Mozilla/5.0 (Windows NT 10.0; Win64; x64) AppleWebKit/537.36 (KHTML, like Gecko) Chrome/105.0.0.0 Safari/537.36\")\n",
    "\n",
    "#step1 driverを作成する\n",
    "driver_path = \"C:/Users/2S9M7PAABJ/Documents/Programming/docker-python/tools/chromedriver.exe\"\n",
    "service = Service(executable_path=driver_path) # 2) executable_pathを指定\n",
    "driver = webdriver.Chrome(service=service) #3) serviceを渡す\n",
    "\n",
    "\n",
    "#driver = webdriver.Chrome(executable_path = \"C:/Users/2S9M7PAABJ/Documents/Programming/docker-python/tools/chromedriver.exe\",options=options)\n",
    "driver.implicitly_wait(10)"
   ]
  },
  {
   "cell_type": "code",
   "execution_count": 4,
   "id": "bf7f0de6-e666-48e8-9fee-76fa884a4364",
   "metadata": {},
   "outputs": [
    {
     "name": "stdout",
     "output_type": "stream",
     "text": [
      "============================== 0 ==============================\n",
      "https://www.mizuhobank.co.jp/retail/takarakuji/check/numbers/numbers3/index.html?year=2022&month=10\n"
     ]
    },
    {
     "ename": "FileNotFoundError",
     "evalue": "[Errno 2] No such file or directory: 'C:\\\\Users\\\\2S9M7PAABJ\\\\Documents\\\\Programming\\\\docker-python\\\\ensyu4_HTML\\\\ensyu4_HTML\\\\当せん番号案内(ナンバーズ3)（2022年10月） | みずほ銀行.html'",
     "output_type": "error",
     "traceback": [
      "\u001b[1;31m---------------------------------------------------------------------------\u001b[0m",
      "\u001b[1;31mFileNotFoundError\u001b[0m                         Traceback (most recent call last)",
      "Input \u001b[1;32mIn [4]\u001b[0m, in \u001b[0;36m<cell line: 11>\u001b[1;34m()\u001b[0m\n\u001b[0;32m     17\u001b[0m     \u001b[38;5;66;03m#filename = fr\"C:/Users/2S9M7PAABJ/Documents/Programming/docker-python/ensyu4_HTML/{driver.title}.html\"\u001b[39;00m\n\u001b[0;32m     18\u001b[0m     \u001b[38;5;66;03m#filename = f\"C:\\Users\\2S9M7PAABJ\\Documents\\Programming\\docker-python\\ensyu4_HTML\\ensyu4_HTML\\{driver.title}.html\"\u001b[39;00m\n\u001b[0;32m     19\u001b[0m     filename \u001b[38;5;241m=\u001b[39m \u001b[38;5;124mfr\u001b[39m\u001b[38;5;124m\"\u001b[39m\u001b[38;5;124mC:\u001b[39m\u001b[38;5;124m\\\u001b[39m\u001b[38;5;124mUsers\u001b[39m\u001b[38;5;124m\\\u001b[39m\u001b[38;5;124m2S9M7PAABJ\u001b[39m\u001b[38;5;124m\\\u001b[39m\u001b[38;5;124mDocuments\u001b[39m\u001b[38;5;124m\\\u001b[39m\u001b[38;5;124mProgramming\u001b[39m\u001b[38;5;124m\\\u001b[39m\u001b[38;5;124mdocker-python\u001b[39m\u001b[38;5;124m\\\u001b[39m\u001b[38;5;124mensyu4_HTML\u001b[39m\u001b[38;5;124m\\\u001b[39m\u001b[38;5;124mensyu4_HTML\u001b[39m\u001b[38;5;124m\\\u001b[39m\u001b[38;5;132;01m{\u001b[39;00mdriver\u001b[38;5;241m.\u001b[39mtitle\u001b[38;5;132;01m}\u001b[39;00m\u001b[38;5;124m.html\u001b[39m\u001b[38;5;124m\"\u001b[39m\n\u001b[1;32m---> 20\u001b[0m     \u001b[38;5;28;01mwith\u001b[39;00m \u001b[38;5;28;43mopen\u001b[39;49m\u001b[43m(\u001b[49m\u001b[43mfilename\u001b[49m\u001b[43m,\u001b[49m\u001b[38;5;124;43m\"\u001b[39;49m\u001b[38;5;124;43mw\u001b[39;49m\u001b[38;5;124;43m\"\u001b[39;49m\u001b[43m)\u001b[49m \u001b[38;5;28;01mas\u001b[39;00m f:\n\u001b[0;32m     21\u001b[0m         f\u001b[38;5;241m.\u001b[39mwrite(html)\n\u001b[0;32m     22\u001b[0m sleep(\u001b[38;5;241m3\u001b[39m)\n",
      "\u001b[1;31mFileNotFoundError\u001b[0m: [Errno 2] No such file or directory: 'C:\\\\Users\\\\2S9M7PAABJ\\\\Documents\\\\Programming\\\\docker-python\\\\ensyu4_HTML\\\\ensyu4_HTML\\\\当せん番号案内(ナンバーズ3)（2022年10月） | みずほ銀行.html'"
     ]
    }
   ],
   "source": [
    "#step2 driver.get()でURLにアクセスする\n",
    "#url = \"https://www.google.com\"\n",
    "url = \"https://www.mizuhobank.co.jp/retail/takarakuji/check/numbers/backnumber/index.html\"\n",
    "driver.get(url)\n",
    "sleep(3)\n",
    "\n",
    "#1SeleniumでTopページからURL一覧を取得する\n",
    "last_12months_links = driver.find_elements(By.CSS_SELECTOR,\"tr.js-backnumber-temp-a > td:nth-of-type(1)>a\")\n",
    "backnumber_links = driver.find_elements(By.CSS_SELECTOR,\"tr.js-backnumber-temp-b >td > a\")\n",
    "urls =[atag.get_attribute(\"href\") for atag in last_12months_links+backnumber_links]\n",
    "for i,url in enumerate(urls):\n",
    "    print(\"=\"*30,i,\"=\"*30)\n",
    "    print(url)\n",
    "    driver.get(url)\n",
    "    sleep(3)\n",
    "    html = driver.page_source\n",
    "    #filename = fr\"C:/Users/2S9M7PAABJ/Documents/Programming/docker-python/ensyu4_HTML/{driver.title}.html\"\n",
    "    #filename = f\"C:\\Users\\2S9M7PAABJ\\Documents\\Programming\\docker-python\\ensyu4_HTML\\ensyu4_HTML\\{driver.title}.html\"\n",
    "    #filename = fr\"C:\\Users\\2S9M7PAABJ\\Documents\\Programming\\docker-python\\ensyu4_HTML\\ensyu4_HTML\\{driver.title}.html\"\n",
    "   \n",
    "    with open(filename,\"w\") as f:\n",
    "        f.write(html)\n",
    "sleep(3)\n",
    "        \n",
    "    \n",
    "\n",
    "\n",
    "\n",
    "\n"
   ]
  },
  {
   "cell_type": "code",
   "execution_count": null,
   "id": "409d955b-5282-4595-b01f-d113c198851e",
   "metadata": {},
   "outputs": [],
   "source": []
  }
 ],
 "metadata": {
  "kernelspec": {
   "display_name": "Python 3 (ipykernel)",
   "language": "python",
   "name": "python3"
  },
  "language_info": {
   "codemirror_mode": {
    "name": "ipython",
    "version": 3
   },
   "file_extension": ".py",
   "mimetype": "text/x-python",
   "name": "python",
   "nbconvert_exporter": "python",
   "pygments_lexer": "ipython3",
   "version": "3.9.12"
  }
 },
 "nbformat": 4,
 "nbformat_minor": 5
}
