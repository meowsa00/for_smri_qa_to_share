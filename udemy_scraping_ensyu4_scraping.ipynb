{
 "cells": [
  {
   "cell_type": "markdown",
   "id": "fda455cc-ddda-4586-9094-86d2cb65c59c",
   "metadata": {},
   "source": [
    "nativeOS環境\n",
    "https://www.lancers.jp/work/detail/3468971\n",
    "https://www.mizuhobank.co.jp/retail/takarakuji/check/numbers/backnumber/index.html\n",
    "\n"
   ]
  },
  {
   "cell_type": "code",
   "execution_count": 1,
   "id": "a232f405-0d76-4c4a-8558-0987c7d8e6da",
   "metadata": {},
   "outputs": [],
   "source": [
    "import os\n",
    "from glob import glob\n",
    "from bs4 import BeautifulSoup\n",
    "import pandas as pd"
   ]
  },
  {
   "cell_type": "code",
   "execution_count": 19,
   "id": "0b85e8db-0d39-4025-a9d2-1ab1895b8c80",
   "metadata": {},
   "outputs": [
    {
     "name": "stdout",
     "output_type": "stream",
     "text": [
      "ナンバーズ当せん番号(第1001回〜第1020回）  みずほ銀行.html\n",
      "ナンバーズ当せん番号(第101回〜第120回）  みずほ銀行.html\n",
      "ナンバーズ当せん番号(第1021回〜第1040回）  みずほ銀行.html\n",
      "当せん番号案内(ナンバーズ3)（2021年12月）  みずほ銀行.html\n",
      "当せん番号案内(ナンバーズ3)（2022年10月）  みずほ銀行.html\n",
      "過去の当せん番号案内(ナンバーズ) 第2701回〜第2720回  みずほ銀行.html\n",
      "過去の当せん番号案内(ナンバーズ) 第2721回〜第2740回  みずほ銀行.html\n",
      "[[{'time': '第1001回', 'date': '2002年4月24日', 'number': '828'}, {'time': '第1002回', 'date': '2002年4月26日', 'number': '324'}, {'time': '第1003回', 'date': '2002年4月29日', 'number': '241'}, {'time': '第1004回', 'date': '2002年5月1日', 'number': '629'}, {'time': '第1005回', 'date': '2002年5月3日', 'number': '215'}, {'time': '第1006回', 'date': '2002年5月6日', 'number': '233'}, {'time': '第1007回', 'date': '2002年5月8日', 'number': '297'}, {'time': '第1008回', 'date': '2002年5月10日', 'number': '381'}, {'time': '第1009回', 'date': '2002年5月13日', 'number': '699'}, {'time': '第1010回', 'date': '2002年5月15日', 'number': '695'}, {'time': '第1011回', 'date': '2002年5月17日', 'number': '813'}, {'time': '第1012回', 'date': '2002年5月20日', 'number': '690'}, {'time': '第1013回', 'date': '2002年5月22日', 'number': '199'}, {'time': '第1014回', 'date': '2002年5月24日', 'number': '758'}, {'time': '第1015回', 'date': '2002年5月27日', 'number': '922'}, {'time': '第1016回', 'date': '2002年5月29日', 'number': '810'}, {'time': '第1017回', 'date': '2002年5月31日', 'number': '463'}, {'time': '第1018回', 'date': '2002年6月3日', 'number': '749'}, {'time': '第1019回', 'date': '2002年6月5日', 'number': '546'}, {'time': '第1020回', 'date': '2002年6月7日', 'number': '140'}], [{'time': '第101回', 'date': '1995年11月7日', 'number': '945'}, {'time': '第102回', 'date': '1995年11月10日', 'number': '560'}, {'time': '第103回', 'date': '1995年11月14日', 'number': '824'}, {'time': '第104回', 'date': '1995年11月17日', 'number': '610'}, {'time': '第105回', 'date': '1995年11月21日', 'number': '619'}, {'time': '第106回', 'date': '1995年11月24日', 'number': '086'}, {'time': '第107回', 'date': '1995年11月28日', 'number': '082'}, {'time': '第108回', 'date': '1995年12月1日', 'number': '254'}, {'time': '第109回', 'date': '1995年12月5日', 'number': '191'}, {'time': '第110回', 'date': '1995年12月8日', 'number': '385'}, {'time': '第111回', 'date': '1995年12月12日', 'number': '056'}, {'time': '第112回', 'date': '1995年12月15日', 'number': '167'}, {'time': '第113回', 'date': '1995年12月19日', 'number': '744'}, {'time': '第114回', 'date': '1995年12月22日', 'number': '205'}, {'time': '第115回', 'date': '1995年12月26日', 'number': '770'}, {'time': '第116回', 'date': '1995年12月29日', 'number': '366'}, {'time': '第117回', 'date': '1996年1月5日', 'number': '952'}, {'time': '第118回', 'date': '1996年1月9日', 'number': '635'}, {'time': '第119回', 'date': '1996年1月12日', 'number': '952'}, {'time': '第120回', 'date': '1996年1月16日', 'number': '650'}], [{'time': '第1021回', 'date': '2002年6月10日', 'number': '642'}, {'time': '第1022回', 'date': '2002年6月12日', 'number': '463'}, {'time': '第1023回', 'date': '2002年6月14日', 'number': '224'}, {'time': '第1024回', 'date': '2002年6月17日', 'number': '423'}, {'time': '第1025回', 'date': '2002年6月19日', 'number': '793'}, {'time': '第1026回', 'date': '2002年6月21日', 'number': '554'}, {'time': '第1027回', 'date': '2002年6月24日', 'number': '794'}, {'time': '第1028回', 'date': '2002年6月26日', 'number': '441'}, {'time': '第1029回', 'date': '2002年6月28日', 'number': '825'}, {'time': '第1030回', 'date': '2002年7月1日', 'number': '260'}, {'time': '第1031回', 'date': '2002年7月3日', 'number': '216'}, {'time': '第1032回', 'date': '2002年7月5日', 'number': '404'}, {'time': '第1033回', 'date': '2002年7月8日', 'number': '466'}, {'time': '第1034回', 'date': '2002年7月10日', 'number': '249'}, {'time': '第1035回', 'date': '2002年7月12日', 'number': '067'}, {'time': '第1036回', 'date': '2002年7月15日', 'number': '524'}, {'time': '第1037回', 'date': '2002年7月17日', 'number': '925'}, {'time': '第1038回', 'date': '2002年7月19日', 'number': '143'}, {'time': '第1039回', 'date': '2002年7月22日', 'number': '258'}, {'time': '第1040回', 'date': '2002年7月24日', 'number': '108'}], [], [], [{'time': '第2701回', 'date': '2009年10月8日', 'number': '493'}, {'time': '第2702回', 'date': '2009年10月9日', 'number': '145'}, {'time': '第2703回', 'date': '2009年10月12日', 'number': '721'}, {'time': '第2704回', 'date': '2009年10月13日', 'number': '071'}, {'time': '第2705回', 'date': '2009年10月14日', 'number': '767'}, {'time': '第2706回', 'date': '2009年10月15日', 'number': '951'}, {'time': '第2707回', 'date': '2009年10月16日', 'number': '153'}, {'time': '第2708回', 'date': '2009年10月19日', 'number': '113'}, {'time': '第2709回', 'date': '2009年10月20日', 'number': '493'}, {'time': '第2710回', 'date': '2009年10月21日', 'number': '295'}, {'time': '第2711回', 'date': '2009年10月22日', 'number': '132'}, {'time': '第2712回', 'date': '2009年10月23日', 'number': '659'}, {'time': '第2713回', 'date': '2009年10月26日', 'number': '572'}, {'time': '第2714回', 'date': '2009年10月27日', 'number': '911'}, {'time': '第2715回', 'date': '2009年10月28日', 'number': '709'}, {'time': '第2716回', 'date': '2009年10月29日', 'number': '837'}, {'time': '第2717回', 'date': '2009年10月30日', 'number': '803'}, {'time': '第2718回', 'date': '2009年11月2日', 'number': '024'}, {'time': '第2719回', 'date': '2009年11月3日', 'number': '505'}, {'time': '第2720回', 'date': '2009年11月4日', 'number': '747'}], [{'time': '第2721回', 'date': '2009年11月5日', 'number': '414'}, {'time': '第2722回', 'date': '2009年11月6日', 'number': '578'}, {'time': '第2723回', 'date': '2009年11月9日', 'number': '611'}, {'time': '第2724回', 'date': '2009年11月10日', 'number': '309'}, {'time': '第2725回', 'date': '2009年11月11日', 'number': '286'}, {'time': '第2726回', 'date': '2009年11月12日', 'number': '977'}, {'time': '第2727回', 'date': '2009年11月13日', 'number': '864'}, {'time': '第2728回', 'date': '2009年11月16日', 'number': '141'}, {'time': '第2729回', 'date': '2009年11月17日', 'number': '790'}, {'time': '第2730回', 'date': '2009年11月18日', 'number': '184'}, {'time': '第2731回', 'date': '2009年11月19日', 'number': '204'}, {'time': '第2732回', 'date': '2009年11月20日', 'number': '967'}, {'time': '第2733回', 'date': '2009年11月23日', 'number': '887'}, {'time': '第2734回', 'date': '2009年11月24日', 'number': '702'}, {'time': '第2735回', 'date': '2009年11月25日', 'number': '660'}, {'time': '第2736回', 'date': '2009年11月26日', 'number': '973'}, {'time': '第2737回', 'date': '2009年11月27日', 'number': '342'}, {'time': '第2738回', 'date': '2009年11月30日', 'number': '676'}, {'time': '第2739回', 'date': '2009年12月1日', 'number': '502'}, {'time': '第2740回', 'date': '2009年12月2日', 'number': '875'}]]\n",
      "7\n"
     ]
    }
   ],
   "source": [
    "def parse(soup,file_name):\n",
    "    d_list = []\n",
    "    if file_name.startswith(\"ナンバーズ\"):\n",
    "        print(file_name)\n",
    "        tables = soup.select(\"table.typeTK\")\n",
    "        for table in tables[1:]:\n",
    "            time = table.select_one(\"tbody>tr:nth-of-type(1)>td\").text\n",
    "            date = table.select_one(\"tbody>tr:nth-of-type(2)>td\").text\n",
    "            number = table.select_one(\"tbody>tr:nth-of-type(3)>td\").text\n",
    "            d ={\"time\":time,\"date\":date,\"number\":number}\n",
    "            d_list.append(d)\n",
    "    elif file_name.startswith(\"過去の\"):\n",
    "        print(file_name)\n",
    "        tables = soup.select(\"table.typeTK.js-lottery-backnumber-temp-sp\")\n",
    "        for table in tables:\n",
    "            time = table.select_one(\"tbody>tr:nth-of-type(1)>td\").text\n",
    "            date = table.select_one(\"tbody>tr:nth-of-type(2)>td\").text\n",
    "            number = table.select_one(\"tbody>tr:nth-of-type(3)>td\").text\n",
    "            d ={\"time\":time,\"date\":date,\"number\":number}\n",
    "            d_list.append(d)\n",
    "            \n",
    "    elif file_name.startswith(\"当せん番号\"):\n",
    "        print(file_name)\n",
    "        tables = soup.select(\"table.typeTK.js-lottery-backnumber-temp-sp\")\n",
    "        for table in tables:\n",
    "            time = table.select_one(\"tbody>tr:nth-of-type(1)>td\").text\n",
    "            date = table.select_one(\"tbody>tr:nth-of-type(2)>td\").text\n",
    "            number = table.select_one(\"tbody>tr:nth-of-type(3)>td\").text\n",
    "            d ={\"time\":time,\"date\":date,\"number\":number}\n",
    "            d_list.append(d)\n",
    "    \n",
    "    \n",
    "    return d_list\n",
    "        \n",
    "    #table.typeTK.js-lottery-backnumber-temp-sp>tbody>tr:nth-of-type(1)>td\n",
    "\n",
    "#HTMLファイルを読み込む為のpathの設定\n",
    "dir_name = os.path.dirname(os.path.abspath(\"__file__\"))\n",
    "ensyu4_HTML_path = os.path.join(dir_name,\"ensyu4_HTML_test\",\"*\")\n",
    "#for文でHTMLファイルの読み込み\n",
    "#pathはファイル名のフルパス\n",
    "#htmlはファイルの中身\n",
    "d_list2=[]\n",
    "for path in glob(ensyu4_HTML_path):\n",
    "    with open(path,\"r\",encoding = \"utf-8-sig\") as f:\n",
    "        html = f.read()\n",
    "    file_name = os.path.basename(path)\n",
    "    soup = BeautifulSoup(html,\"lxml\")\n",
    "    r = parse(soup,file_name)\n",
    "    d_list2.append(r)\n",
    "    #d_list2 += d_list2\n",
    "    #r += r\n",
    "    \n",
    "\n",
    "print(d_list2)   \n",
    "print(len(d_list2))\n",
    "#print(r[0,42])"
   ]
  },
  {
   "cell_type": "code",
   "execution_count": null,
   "id": "ecba9eb8-8d53-45ad-be75-85fa5a0aadff",
   "metadata": {},
   "outputs": [],
   "source": []
  },
  {
   "cell_type": "code",
   "execution_count": null,
   "id": "0bf50699-29d4-4db5-8917-121a29c032e1",
   "metadata": {},
   "outputs": [],
   "source": []
  }
 ],
 "metadata": {
  "kernelspec": {
   "display_name": "Python 3 (ipykernel)",
   "language": "python",
   "name": "python3"
  },
  "language_info": {
   "codemirror_mode": {
    "name": "ipython",
    "version": 3
   },
   "file_extension": ".py",
   "mimetype": "text/x-python",
   "name": "python",
   "nbconvert_exporter": "python",
   "pygments_lexer": "ipython3",
   "version": "3.9.12"
  }
 },
 "nbformat": 4,
 "nbformat_minor": 5
}
