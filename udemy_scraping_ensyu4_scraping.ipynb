{
 "cells": [
  {
   "cell_type": "markdown",
   "id": "fda455cc-ddda-4586-9094-86d2cb65c59c",
   "metadata": {},
   "source": [
    "nativeOS環境\n",
    "https://www.lancers.jp/work/detail/3468971\n",
    "https://www.mizuhobank.co.jp/retail/takarakuji/check/numbers/backnumber/index.html\n",
    "\n"
   ]
  },
  {
   "cell_type": "code",
   "execution_count": 8,
   "id": "a232f405-0d76-4c4a-8558-0987c7d8e6da",
   "metadata": {},
   "outputs": [],
   "source": [
    "import os\n",
    "from glob import glob\n",
    "from bs4 import BeautifulSoup\n",
    "import pandas as pd"
   ]
  },
  {
   "cell_type": "code",
   "execution_count": 12,
   "id": "0b85e8db-0d39-4025-a9d2-1ab1895b8c80",
   "metadata": {},
   "outputs": [
    {
     "name": "stdout",
     "output_type": "stream",
     "text": [
      "過去の当せん番号案内(ナンバーズ) 第5801回〜第5813回  みずほ銀行.html\n",
      "[{'time': '第5801回', 'date': '2021年10月13日', 'number': '642'}, {'time': '第5802回', 'date': '2021年10月14日', 'number': '019'}, {'time': '第5803回', 'date': '2021年10月15日', 'number': '968'}, {'time': '第5804回', 'date': '2021年10月18日', 'number': '527'}, {'time': '第5805回', 'date': '2021年10月19日', 'number': '491'}, {'time': '第5806回', 'date': '2021年10月20日', 'number': '353'}, {'time': '第5807回', 'date': '2021年10月21日', 'number': '722'}, {'time': '第5808回', 'date': '2021年10月22日', 'number': '426'}, {'time': '第5809回', 'date': '2021年10月25日', 'number': '970'}, {'time': '第5810回', 'date': '2021年10月26日', 'number': '495'}, {'time': '第5811回', 'date': '2021年10月27日', 'number': '488'}, {'time': '第5812回', 'date': '2021年10月28日', 'number': '187'}, {'time': '第5813回', 'date': '2021年10月29日', 'number': '236'}]\n",
      "13\n"
     ]
    }
   ],
   "source": [
    "def parse(soup,file_name):\n",
    "    d_list = []\n",
    "    if file_name.startswith(\"ナンバーズ\"):\n",
    "        tables = soup.select(\"table.typeTK\")\n",
    "        for table in tables:\n",
    "            time = table.select_one(\"thead>tr>th:nth-of-type(2)\").text\n",
    "            date = table.select_one(\"tbody>tr:nth-of-type(1)>th>td\").text\n",
    "            number = table.select_one(\"tbody>tr:nth-of-type(2)>td>strong.js-lottery-number-pc\").text\n",
    "            d ={\"time\":time,\"date\":date,\"number\":number}\n",
    "            d_list.append(d)\n",
    "    else:    \n",
    "    #elif file_name.startswith(\"過去の\"):\n",
    "        tables = soup.select(\"table.typeTK.js-lottery-backnumber-temp-sp\")\n",
    "        for table in tables:\n",
    "            time = table.select_one(\"tbody>tr:nth-of-type(1)>td\").text\n",
    "            date = table.select_one(\"tbody>tr:nth-of-type(2)>td\").text\n",
    "            number = table.select_one(\"tbody>tr:nth-of-type(3)>td\").text\n",
    "            d ={\"time\":time,\"date\":date,\"number\":number}\n",
    "            d_list.append(d)\n",
    "    return d_list\n",
    "        \n",
    "    #table.typeTK.js-lottery-backnumber-temp-sp>tbody>tr:nth-of-type(1)>td\n",
    "\n",
    "#HTMLファイルを読み込む為のpathの設定\n",
    "dir_name = os.path.dirname(os.path.abspath(\"__file__\"))\n",
    "ensyu4_HTML_path = os.path.join(dir_name,\"ensyu4_HTML\",\"*\")\n",
    "#for文でHTMLファイルの読み込み\n",
    "#pathはファイル名のフルパス\n",
    "#htmlはファイルの中身\n",
    "for path in glob(ensyu4_HTML_path):\n",
    "    with open(path,\"r\",encoding = \"utf-8-sig\") as f:\n",
    "        html = f.read()\n",
    "    file_name = os.path.basename(path)\n",
    "    soup = BeautifulSoup(html,\"lxml\")\n",
    "    \n",
    "    \n",
    "r = parse(soup,file_name)\n",
    "print(file_name)\n",
    "print(r)\n",
    "print(len(r))"
   ]
  },
  {
   "cell_type": "code",
   "execution_count": null,
   "id": "ecba9eb8-8d53-45ad-be75-85fa5a0aadff",
   "metadata": {},
   "outputs": [],
   "source": []
  },
  {
   "cell_type": "code",
   "execution_count": null,
   "id": "0bf50699-29d4-4db5-8917-121a29c032e1",
   "metadata": {},
   "outputs": [],
   "source": []
  }
 ],
 "metadata": {
  "kernelspec": {
   "display_name": "Python 3 (ipykernel)",
   "language": "python",
   "name": "python3"
  },
  "language_info": {
   "codemirror_mode": {
    "name": "ipython",
    "version": 3
   },
   "file_extension": ".py",
   "mimetype": "text/x-python",
   "name": "python",
   "nbconvert_exporter": "python",
   "pygments_lexer": "ipython3",
   "version": "3.9.12"
  }
 },
 "nbformat": 4,
 "nbformat_minor": 5
}
