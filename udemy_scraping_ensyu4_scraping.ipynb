{
 "cells": [
  {
   "cell_type": "markdown",
   "id": "fda455cc-ddda-4586-9094-86d2cb65c59c",
   "metadata": {},
   "source": [
    "nativeOS環境\n",
    "https://www.lancers.jp/work/detail/3468971\n",
    "https://www.mizuhobank.co.jp/retail/takarakuji/check/numbers/backnumber/index.html\n",
    "\n"
   ]
  },
  {
   "cell_type": "code",
   "execution_count": 1,
   "id": "a232f405-0d76-4c4a-8558-0987c7d8e6da",
   "metadata": {},
   "outputs": [],
   "source": [
    "import os\n",
    "from glob import glob\n",
    "from bs4 import BeautifulSoup\n",
    "import pandas as pd"
   ]
  },
  {
   "cell_type": "code",
   "execution_count": 2,
   "id": "0b85e8db-0d39-4025-a9d2-1ab1895b8c80",
   "metadata": {},
   "outputs": [
    {
     "name": "stdout",
     "output_type": "stream",
     "text": [
      "過去の当せん番号案内(ナンバーズ) 第5821回〜第5835回  みずほ銀行.html\n",
      "[{'time': '第5821回', 'date': '2021年11月10日', 'number': '905'}, {'time': '第5822回', 'date': '2021年11月11日', 'number': '748'}, {'time': '第5823回', 'date': '2021年11月12日', 'number': '635'}, {'time': '第5824回', 'date': '2021年11月15日', 'number': '245'}, {'time': '第5825回', 'date': '2021年11月16日', 'number': '313'}, {'time': '第5826回', 'date': '2021年11月17日', 'number': '967'}, {'time': '第5827回', 'date': '2021年11月18日', 'number': '802'}, {'time': '第5828回', 'date': '2021年11月19日', 'number': '571'}, {'time': '第5829回', 'date': '2021年11月22日', 'number': '363'}, {'time': '第5830回', 'date': '2021年11月23日', 'number': '549'}, {'time': '第5831回', 'date': '2021年11月24日', 'number': '448'}, {'time': '第5832回', 'date': '2021年11月25日', 'number': '357'}, {'time': '第5833回', 'date': '2021年11月26日', 'number': '931'}, {'time': '第5834回', 'date': '2021年11月29日', 'number': '935'}, {'time': '第5835回', 'date': '2021年11月30日', 'number': '840'}]\n",
      "15\n"
     ]
    }
   ],
   "source": [
    "def parse(soup,file_name):\n",
    "    d_list = []\n",
    "    if file_name.startswith(\"ナンバーズ\"):\n",
    "        print(file_name)\n",
    "        tables = soup.select(\"table.typeTK\")\n",
    "        for table in tables:\n",
    "            time = table.select_one(\"tbody>tr:nth-of-type(1)>td\").text\n",
    "            date = table.select_one(\"tbody>tr:nth-of-type(2)>td\").text\n",
    "            number = table.select_one(\"tbody>tr:nth-of-type(3)>td\").text\n",
    "            d ={\"time\":time,\"date\":date,\"number\":number}\n",
    "            d_list.append(d)\n",
    "    elif file_name.startswith(\"過去の\"):\n",
    "        print(file_name)\n",
    "        tables = soup.select(\"table.typeTK.js-lottery-backnumber-temp-sp\")\n",
    "        for table in tables:\n",
    "            time = table.select_one(\"tbody>tr:nth-of-type(1)>td\").text\n",
    "            date = table.select_one(\"tbody>tr:nth-of-type(2)>td\").text\n",
    "            number = table.select_one(\"tbody>tr:nth-of-type(3)>td\").text\n",
    "            d ={\"time\":time,\"date\":date,\"number\":number}\n",
    "            d_list.append(d)\n",
    "            \n",
    "    elif file_name.startswith(\"当せん番号\"):\n",
    "        print(file_name)\n",
    "        tables = soup.select(\"table.typeTK.js-lottery-backnumber-temp-sp\")\n",
    "        for table in tables:\n",
    "            time = table.select_one(\"tbody>tr:nth-of-type(1)>td\").text\n",
    "            date = table.select_one(\"tbody>tr:nth-of-type(2)>td\").text\n",
    "            number = table.select_one(\"tbody>tr:nth-of-type(3)>td\").text\n",
    "            d ={\"time\":time,\"date\":date,\"number\":number}\n",
    "            d_list.append(d)\n",
    "    \n",
    "    \n",
    "    return d_list\n",
    "        \n",
    "    #table.typeTK.js-lottery-backnumber-temp-sp>tbody>tr:nth-of-type(1)>td\n",
    "\n",
    "#HTMLファイルを読み込む為のpathの設定\n",
    "dir_name = os.path.dirname(os.path.abspath(\"__file__\"))\n",
    "ensyu4_HTML_path = os.path.join(dir_name,\"ensyu4_HTML\",\"*\")\n",
    "#for文でHTMLファイルの読み込み\n",
    "#pathはファイル名のフルパス\n",
    "#htmlはファイルの中身\n",
    "for path in glob(ensyu4_HTML_path):\n",
    "    with open(path,\"r\",encoding = \"utf-8-sig\") as f:\n",
    "        html = f.read()\n",
    "    file_name = os.path.basename(path)\n",
    "    soup = BeautifulSoup(html,\"lxml\")\n",
    "    \n",
    "    \n",
    "r = parse(soup,file_name)\n",
    "    \n",
    "print(r)\n",
    "print(len(r))"
   ]
  },
  {
   "cell_type": "code",
   "execution_count": null,
   "id": "ecba9eb8-8d53-45ad-be75-85fa5a0aadff",
   "metadata": {},
   "outputs": [],
   "source": []
  },
  {
   "cell_type": "code",
   "execution_count": null,
   "id": "0bf50699-29d4-4db5-8917-121a29c032e1",
   "metadata": {},
   "outputs": [],
   "source": []
  }
 ],
 "metadata": {
  "kernelspec": {
   "display_name": "Python 3 (ipykernel)",
   "language": "python",
   "name": "python3"
  },
  "language_info": {
   "codemirror_mode": {
    "name": "ipython",
    "version": 3
   },
   "file_extension": ".py",
   "mimetype": "text/x-python",
   "name": "python",
   "nbconvert_exporter": "python",
   "pygments_lexer": "ipython3",
   "version": "3.9.12"
  }
 },
 "nbformat": 4,
 "nbformat_minor": 5
}
