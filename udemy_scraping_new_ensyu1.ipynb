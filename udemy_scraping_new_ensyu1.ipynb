{
 "cells": [
  {
   "cell_type": "code",
   "execution_count": 1,
   "id": "57d28e8c-b602-458d-abf7-7b00db60d46e",
   "metadata": {},
   "outputs": [],
   "source": [
    "from time import sleep\n",
    "import requests\n",
    "from bs4 import BeautifulSoup\n",
    "import pandas as pd"
   ]
  },
  {
   "cell_type": "code",
   "execution_count": 2,
   "id": "4bee19b2-f7f1-45b5-94a7-3ea73a061e2b",
   "metadata": {},
   "outputs": [],
   "source": [
    "url = \"https://employment.en-japan.com/wish/search_list/?companytype=0&worktype=0&areaid=23_24_21_50&occupation=101000_102500_103000_103500_104500_105000_105500_109000&indexNoWishArea=0&sort=wish&pagenum=\"\n"
   ]
  },
  {
   "cell_type": "code",
   "execution_count": 7,
   "id": "78e8b513-0e76-4840-963a-96dbd1fd6b9d",
   "metadata": {},
   "outputs": [
    {
     "name": "stdout",
     "output_type": "stream",
     "text": [
      "{'company_name': '株式会社ドラ侍', 'company_url': None}\n"
     ]
    }
   ],
   "source": [
    "base_url = \"https://employment.en-japan.com\"\n",
    "r = requests.get(url)\n",
    "r.raise_for_status()\n",
    "soup = BeautifulSoup(r.content,\"lxml\")\n",
    "jobs = soup.find_all(\"div\",class_=\"jobNameArea\")\n",
    "d_list = []\n",
    "for job in jobs:\n",
    "    company_name = job.find(\"span\",class_=\"company\").text\n",
    "    page_url = base_url+job.find(\"a\").get(\"href\")\n",
    "    page_r = requests.get(page_url)\n",
    "    page_r.raise_for_status()\n",
    "    \n",
    "    page_soup = BeautifulSoup(page_r.content,\"lxml\")\n",
    "    company_url = None\n",
    "    if \"PK\" in page_url:\n",
    "        company_summary = page_soup.find(\"div\",class_=\"descArticleUnit dataCompanyInfoSummary\")\n",
    "        for table_row in company_summary.find_all(\"tr\"):\n",
    "            if table_row.find(\"th\").text == \"企業ホームページ\":\n",
    "                company_url = table_row.find(\"td\").find(\"a\").text\n",
    "    d_list.append(\n",
    "        {\"company_name\":company_name,\"company_url\":company_url})\n",
    "print(d_list[-1])\n",
    "        \n",
    "    \n",
    "        \n",
    "        \n",
    "        \n",
    "      \n",
    "    "
   ]
  },
  {
   "cell_type": "code",
   "execution_count": null,
   "id": "1d7794fb-cfd1-4ab6-8b9b-e71dbe8ae15f",
   "metadata": {},
   "outputs": [],
   "source": []
  },
  {
   "cell_type": "code",
   "execution_count": null,
   "id": "93b6d4b4-51b9-4b01-b66c-4bcd1928460f",
   "metadata": {},
   "outputs": [],
   "source": []
  }
 ],
 "metadata": {
  "kernelspec": {
   "display_name": "Python 3 (ipykernel)",
   "language": "python",
   "name": "python3"
  },
  "language_info": {
   "codemirror_mode": {
    "name": "ipython",
    "version": 3
   },
   "file_extension": ".py",
   "mimetype": "text/x-python",
   "name": "python",
   "nbconvert_exporter": "python",
   "pygments_lexer": "ipython3",
   "version": "3.9.7"
  }
 },
 "nbformat": 4,
 "nbformat_minor": 5
}
