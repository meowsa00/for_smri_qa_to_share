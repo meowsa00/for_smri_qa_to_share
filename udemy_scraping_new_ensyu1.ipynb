{
 "cells": [
  {
   "cell_type": "code",
   "execution_count": 1,
   "id": "57d28e8c-b602-458d-abf7-7b00db60d46e",
   "metadata": {},
   "outputs": [],
   "source": [
    "from time import sleep\n",
    "import requests\n",
    "from bs4 import BeautifulSoup\n",
    "import pandas as pd\n",
    "#条件の絞り込みをかけたページURL\n",
    "#https://employment.en-japan.com/wish/search_list/?companytype=0&worktype=0&areaid=23_24_21_50&occupation=101000_102500_103000_103500_104500_105000_105500_109000&indexNoWishArea=0&sort=wish"
   ]
  },
  {
   "cell_type": "code",
   "execution_count": 2,
   "id": "4bee19b2-f7f1-45b5-94a7-3ea73a061e2b",
   "metadata": {},
   "outputs": [],
   "source": [
    "url = \"https://employment.en-japan.com/wish/search_list/?companytype=0&worktype=0&areaid=23_24_21_50&occupation=101000_102500_103000_103500_104500_105000_105500_109000&indexNoWishArea=0&sort=wish&pagenum=\"\n"
   ]
  },
  {
   "cell_type": "code",
   "execution_count": 3,
   "id": "78e8b513-0e76-4840-963a-96dbd1fd6b9d",
   "metadata": {},
   "outputs": [
    {
     "name": "stdout",
     "output_type": "stream",
     "text": [
      "{'company_name': '株式会社エフ・オー・プランニング', 'company_url': None}\n",
      "{'company_name': '株式会社Ｊ’ｓＦａｃｔｏｒｙ\\u3000北九州', 'company_url': 'http://www.jws.co.jp/kyushu/index.html'}\n",
      "{'company_name': '株式会社ミュゼプラチナム', 'company_url': 'https://musee-pla.com/'}\n",
      "{'company_name': 'アールシースタッフ株式会社', 'company_url': 'https://www.rcs.jp/'}\n",
      "{'company_name': '株式会社エフ・オー・プランニング', 'company_url': 'http://www.fop-japan.co.jp/'}\n",
      "{'company_name': '株式会社新潟印刷', 'company_url': 'https://niigatainsatsu.co.jp/'}\n",
      "{'company_name': '株式会社ウィルオブ・ワーク（ウィルグループ）', 'company_url': 'https://willof-work.co.jp/'}\n",
      "{'company_name': '日本シーアイシー技研株式会社', 'company_url': None}\n",
      "{'company_name': '株式会社エクシードジャパン', 'company_url': 'http://www.exceedjapan.co.jp'}\n",
      "{'company_name': '株式会社SSマーケット', 'company_url': 'https://ssmarket.co.jp/'}\n",
      "{'company_name': '株式会社C・S・R', 'company_url': None}\n",
      "{'company_name': '株式会社アイビス', 'company_url': 'https://ibis.gs/'}\n",
      "{'company_name': 'オンタイムデリバリージャパン株式会社', 'company_url': 'http://ondeli-japan.com'}\n",
      "{'company_name': '株式会社ライトウェア', 'company_url': 'http://www.lightware.co.jp/'}\n",
      "{'company_name': 'アーク引越センター株式会社', 'company_url': 'https://www.0003.co.jp/'}\n",
      "{'company_name': '有限会社味源', 'company_url': 'https://ajigen.com'}\n",
      "{'company_name': '株式会社ウィル', 'company_url': None}\n",
      "{'company_name': '日本ライトサービス株式会社', 'company_url': 'https://www.nlsinc.co.jp/'}\n",
      "{'company_name': \"株式会社One's Will\", 'company_url': 'http://oneswill.co.jp/'}\n",
      "{'company_name': 'ビーモーション株式会社', 'company_url': 'https://www.bemotion.co.jp/staff/'}\n",
      "{'company_name': '株式会社TMJ（セコムグループ）', 'company_url': 'https://www.tmj.jp/'}\n",
      "{'company_name': '株式会社ジェイアールシー', 'company_url': 'https://jrc.ne.jp/'}\n",
      "{'company_name': '日本セーフティー株式会社', 'company_url': 'https://recruit.nihon-safety.co.jp/'}\n",
      "{'company_name': '柿沼金属精機株式会社', 'company_url': 'https://www.kakinuma-grp.co.jp/'}\n",
      "{'company_name': 'AIGATEキャリア株式会社', 'company_url': 'https://www.recruit-aigatecareer.com/'}\n",
      "{'company_name': '株式会社グローバルトラストネットワークス', 'company_url': 'http://www.gtn.co.jp/'}\n",
      "{'company_name': '株式会社トライトエンジニアリング', 'company_url': None}\n",
      "{'company_name': '小倉ホールディングス株式会社', 'company_url': 'http://www.k-ogura.com/'}\n",
      "{'company_name': 'トライトグループ', 'company_url': None}\n",
      "{'company_name': '株式会社アイザック', 'company_url': 'http://www.aizac.jp/'}\n",
      "{'company_name': 'KSキャリア株式会社', 'company_url': 'https://ks-career.co.jp/'}\n",
      "{'company_name': '株式会社インターエデュ・ドットコム', 'company_url': 'https://www.inter-edu.com'}\n",
      "{'company_name': '大東建託株式会社（東証プライム上場）', 'company_url': 'http://www.kentaku.co.jp'}\n",
      "{'company_name': 'SBIビジネス・イノベーター株式会社', 'company_url': 'https://www.sbibi.co.jp/'}\n",
      "{'company_name': '大東建託株式会社（東証プライム上場）', 'company_url': 'http://www.kentaku.co.jp'}\n",
      "{'company_name': '株式会社ミニテック', 'company_url': 'http://www.minitech.co.jp/'}\n",
      "{'company_name': 'ヒューマンリソシア株式会社', 'company_url': None}\n",
      "{'company_name': '柳井紙工株式会社', 'company_url': 'http://www.package-yanai.co.jp'}\n",
      "{'company_name': '株式会社リクルート', 'company_url': 'https://www.recruit.co.jp/'}\n",
      "{'company_name': '株式会社イノベーター', 'company_url': 'https://www.bouhancamera-navi.com/'}\n",
      "{'company_name': '株式会社リクルート', 'company_url': 'https://www.recruit.co.jp/'}\n",
      "{'company_name': '株式会社ロフティ―', 'company_url': 'http://lofty-ltd.co.jp'}\n",
      "{'company_name': '日本生命保険相互会社', 'company_url': 'https://www.nissay.co.jp/kaisha/saiyo/chuto/service/'}\n",
      "{'company_name': '株式会社リカバリー', 'company_url': 'https://www.recovery-run.jp/'}\n",
      "{'company_name': 'ゲンダイエージェンシー株式会社', 'company_url': 'https://www.gendai-a.co.jp/'}\n",
      "{'company_name': '株式会社MEDILCY', 'company_url': 'https://medilcy.co.jp/'}\n",
      "{'company_name': '株式会社ウィンノット', 'company_url': 'https://win-knot.co.jp/'}\n",
      "{'company_name': '株式会社ＷＡＶＥＳ', 'company_url': 'http://waves.tokyo/'}\n",
      "{'company_name': 'セコム株式会社', 'company_url': 'http://www.secom.co.jp/'}\n",
      "{'company_name': '株式会社エネシエイト', 'company_url': 'https://v509660.bizloop.jp/s2/?m=v509660&s=2'}\n",
      "50\n"
     ]
    }
   ],
   "source": [
    "base_url = \"https://employment.en-japan.com\"\n",
    "r = requests.get(url)\n",
    "r.raise_for_status()\n",
    "soup = BeautifulSoup(r.content,\"lxml\")\n",
    "jobs = soup.find_all(\"div\",class_=\"jobNameArea\")\n",
    "d_list = []\n",
    "for job in jobs:\n",
    "    company_name = job.find(\"span\",class_=\"company\").text\n",
    "    page_url = base_url+job.find(\"a\").get(\"href\")\n",
    "    page_r = requests.get(page_url)\n",
    "    page_r.raise_for_status()\n",
    "    \n",
    "    page_soup = BeautifulSoup(page_r.content,\"lxml\")\n",
    "    company_url = None\n",
    "    if \"PK\" in page_url:\n",
    "        company_summary = page_soup.find(\"div\",class_=\"descArticleUnit dataCompanyInfoSummary\")\n",
    "        for table_row in company_summary.find_all(\"tr\"):\n",
    "            if table_row.find(\"th\").text == \"企業ホームページ\":\n",
    "                company_url = table_row.find(\"td\").find(\"a\").text\n",
    "    elif \"fromSearch\" in page_url:\n",
    "        detail_page_url = page_soup.find(\"iframe\",id=\"recruitFrame\").get(\"src\") \n",
    "        detail_page_r = requests.get(detail_page_url)\n",
    "        detail_page_r.raise_for_status()\n",
    "        sleep(3)\n",
    "        detail_page_r_soup = BeautifulSoup(detail_page_r.content,\"lxml\")\n",
    "        company_summary = detail_page_r_soup.find(\"table\",class_=\"companyTable\")\n",
    "        for table_row in company_summary.find_all(\"tr\"):\n",
    "            if table_row.find(\"th\").text == \"企業WEBサイト\":\n",
    "                company_url = table_row.find(\"td\").find(\"a\").text\n",
    "    d_list.append({\n",
    "        \"company_name\":company_name,\"company_url\":company_url\n",
    "    })\n",
    "    print(d_list[-1])\n",
    "print(len(d_list))\n",
    "    \n",
    "df = pd.DataFrame(d_list)\n",
    "df.to_csv(\"enjapan_company_list.csv\",index=False,encoding = \"utf-8\")\n",
    "        \n",
    "    \n",
    "        \n",
    "        \n",
    "    "
   ]
  },
  {
   "cell_type": "code",
   "execution_count": 4,
   "id": "1d7794fb-cfd1-4ab6-8b9b-e71dbe8ae15f",
   "metadata": {},
   "outputs": [
    {
     "name": "stdout",
     "output_type": "stream",
     "text": [
      "50\n"
     ]
    }
   ],
   "source": []
  },
  {
   "cell_type": "code",
   "execution_count": null,
   "id": "93b6d4b4-51b9-4b01-b66c-4bcd1928460f",
   "metadata": {},
   "outputs": [],
   "source": []
  }
 ],
 "metadata": {
  "kernelspec": {
   "display_name": "Python 3 (ipykernel)",
   "language": "python",
   "name": "python3"
  },
  "language_info": {
   "codemirror_mode": {
    "name": "ipython",
    "version": 3
   },
   "file_extension": ".py",
   "mimetype": "text/x-python",
   "name": "python",
   "nbconvert_exporter": "python",
   "pygments_lexer": "ipython3",
   "version": "3.9.7"
  }
 },
 "nbformat": 4,
 "nbformat_minor": 5
}
