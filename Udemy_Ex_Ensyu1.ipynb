{
 "cells": [
  {
   "cell_type": "code",
   "execution_count": 1,
   "id": "1b29641a-e246-4346-8f02-35e3215df8a4",
   "metadata": {},
   "outputs": [],
   "source": [
    "#https://coconala.com/requests/897456\n",
    "#検索条件結果サイトurl\n",
    "#https://doda.jp/DodaFront/View/JobSearchList.action?ss=1&pr=13&pic=1&ds=0&oc=0112M%2C0113M%2C010401S%2C010402S%2C010404S&so=50&tp=1\n",
    "\n"
   ]
  },
  {
   "cell_type": "code",
   "execution_count": 2,
   "id": "1b5cdd73-ee49-4680-8cf3-85312d7cc0bd",
   "metadata": {},
   "outputs": [],
   "source": [
    "from time import sleep\n",
    "import requests\n",
    "from bs4 import BeautifulSoup\n",
    "import pandas as pd"
   ]
  },
  {
   "cell_type": "code",
   "execution_count": 3,
   "id": "a9df2d7e-7831-4ba6-955a-3fa3f74cd363",
   "metadata": {},
   "outputs": [],
   "source": [
    "soup = BeautifulSoup(open('HTML_sample/view-source_https___doda.jp_DodaFront_View_JobSearchList.action_ss=1&pr=13&pic=1&ds=0&oc=0112M%2C0113M%2C010401S%2C010402S%2C010404S&so=50&tp=1.html', encoding='utf-8'), \"lxml\")"
   ]
  },
  {
   "cell_type": "code",
   "execution_count": 4,
   "id": "e08c5678-b64b-46db-9c77-83dffa01375e",
   "metadata": {},
   "outputs": [
    {
     "name": "stdout",
     "output_type": "stream",
     "text": [
      "[]\n"
     ]
    }
   ],
   "source": [
    "companies_data =soup.find_all(\"div\",class_=\"layout layoutList02 listTagIn\")\n",
    "print(companies_data)\n",
    "for company_data in companies_data:\n",
    "    print(company_data)\n",
    "    company_name = company_data.find(\"span\",class_=\"company width688\").text\n",
    "    print(company_name)\n"
   ]
  },
  {
   "cell_type": "code",
   "execution_count": null,
   "id": "8cde6318-06d6-4e0a-ad58-aaf465c49475",
   "metadata": {},
   "outputs": [],
   "source": []
  },
  {
   "cell_type": "code",
   "execution_count": null,
   "id": "cd054503-0243-4636-b4d0-47c5f2483cbb",
   "metadata": {},
   "outputs": [],
   "source": []
  }
 ],
 "metadata": {
  "kernelspec": {
   "display_name": "Python 3 (ipykernel)",
   "language": "python",
   "name": "python3"
  },
  "language_info": {
   "codemirror_mode": {
    "name": "ipython",
    "version": 3
   },
   "file_extension": ".py",
   "mimetype": "text/x-python",
   "name": "python",
   "nbconvert_exporter": "python",
   "pygments_lexer": "ipython3",
   "version": "3.9.12"
  }
 },
 "nbformat": 4,
 "nbformat_minor": 5
}
