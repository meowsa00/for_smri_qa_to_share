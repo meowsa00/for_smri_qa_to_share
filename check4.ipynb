{
 "cells": [
  {
   "cell_type": "code",
   "execution_count": 3,
   "id": "1eb80ddc-433f-4d2e-8986-3f9638de3226",
   "metadata": {},
   "outputs": [
    {
     "ename": "SyntaxError",
     "evalue": "EOL while scanning string literal (3593787677.py, line 1)",
     "output_type": "error",
     "traceback": [
      "\u001b[0;36m  Input \u001b[0;32mIn [3]\u001b[0;36m\u001b[0m\n\u001b[0;31m    s =\"Side A\u001b[0m\n\u001b[0m              ^\u001b[0m\n\u001b[0;31mSyntaxError\u001b[0m\u001b[0;31m:\u001b[0m EOL while scanning string literal\n"
     ]
    }
   ],
   "source": [
    "s =\"Side A\n",
    " Linval Spencer / Don't Believe\n",
    "\n",
    "Linval Spencer / I Have Fail\n",
    "[♪]\n",
    "\n",
    "レーベル\n",
    "C＆N ( JA )\n",
    "\n",
    "コンディション\n",
    "EX-\n",
    "\n",
    "コメント\n",
    "美品 !!\n",
    "Side B : 盤の淵に凹凸がございます。\n",
    "\n",
    "C＆N ( JA )\n",
    "\n",
    "コンディション\n",
    "EX-\n",
    "\n",
    "コメント\n",
    "美品 !!\n",
    "Side B : 盤の淵に凹凸がございます。\"\n",
    "s = str(s)\n",
    "\n",
    "s2 = s.replace(\"\\n\",\"\").replace(\" \",\"\").replace(\"　\",\"\")\n",
    "print(s2)\n",
    "\n",
    "x = s2.find(\"レーベル\") \n",
    "y = s2.find(\"コンディション\")\n",
    "rest =s2[x+len(\"レーベル\"):]\n",
    "label =rest[:y]\n",
    "print(label)\n",
    "\n",
    "\n"
   ]
  },
  {
   "cell_type": "code",
   "execution_count": null,
   "id": "35a3c37e-451e-4a3d-9a79-59a3cf1d90e1",
   "metadata": {},
   "outputs": [],
   "source": []
  }
 ],
 "metadata": {
  "kernelspec": {
   "display_name": "Python 3 (ipykernel)",
   "language": "python",
   "name": "python3"
  },
  "language_info": {
   "codemirror_mode": {
    "name": "ipython",
    "version": 3
   },
   "file_extension": ".py",
   "mimetype": "text/x-python",
   "name": "python",
   "nbconvert_exporter": "python",
   "pygments_lexer": "ipython3",
   "version": "3.9.12"
  }
 },
 "nbformat": 4,
 "nbformat_minor": 5
}
