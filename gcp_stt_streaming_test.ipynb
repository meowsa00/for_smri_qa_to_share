{
 "cells": [
  {
   "cell_type": "code",
   "execution_count": 21,
   "id": "c436c9fd-beda-426b-b2c0-f6867b4b2fac",
   "metadata": {},
   "outputs": [],
   "source": [
    "import os"
   ]
  },
  {
   "cell_type": "code",
   "execution_count": 22,
   "id": "defbbff1-6e3d-4c22-ac76-c72800114429",
   "metadata": {},
   "outputs": [],
   "source": [
    "os.environ[\"GOOGLE_APPLICATION_CREDENTIALS\"] = \"udemy-gstt-test2w-93446e614801.json\""
   ]
  },
  {
   "cell_type": "code",
   "execution_count": 23,
   "id": "93af6577-e713-4292-8518-455990913cc1",
   "metadata": {
    "tags": []
   },
   "outputs": [
    {
     "name": "stdout",
     "output_type": "stream",
     "text": [
      "Requirement already satisfied: google-cloud-speech in c:\\users\\2s9m7paabj\\anaconda3\\lib\\site-packages (2.16.2)\n",
      "Requirement already satisfied: protobuf!=3.20.0,!=3.20.1,!=4.21.0,!=4.21.1,!=4.21.2,!=4.21.3,!=4.21.4,!=4.21.5,<5.0.0dev,>=3.19.5 in c:\\users\\2s9m7paabj\\anaconda3\\lib\\site-packages (from google-cloud-speech) (3.20.3)\n",
      "Requirement already satisfied: proto-plus<2.0.0dev,>=1.22.0 in c:\\users\\2s9m7paabj\\anaconda3\\lib\\site-packages (from google-cloud-speech) (1.22.1)\n",
      "Requirement already satisfied: google-api-core[grpc]!=2.0.*,!=2.1.*,!=2.2.*,!=2.3.*,!=2.4.*,!=2.5.*,!=2.6.*,!=2.7.*,<3.0.0dev,>=1.32.0 in c:\\users\\2s9m7paabj\\anaconda3\\lib\\site-packages (from google-cloud-speech) (2.10.2)\n",
      "Requirement already satisfied: requests<3.0.0dev,>=2.18.0 in c:\\users\\2s9m7paabj\\anaconda3\\lib\\site-packages (from google-api-core[grpc]!=2.0.*,!=2.1.*,!=2.2.*,!=2.3.*,!=2.4.*,!=2.5.*,!=2.6.*,!=2.7.*,<3.0.0dev,>=1.32.0->google-cloud-speech) (2.27.1)\n",
      "Requirement already satisfied: google-auth<3.0dev,>=1.25.0 in c:\\users\\2s9m7paabj\\anaconda3\\lib\\site-packages (from google-api-core[grpc]!=2.0.*,!=2.1.*,!=2.2.*,!=2.3.*,!=2.4.*,!=2.5.*,!=2.6.*,!=2.7.*,<3.0.0dev,>=1.32.0->google-cloud-speech) (1.33.0)\n",
      "Requirement already satisfied: googleapis-common-protos<2.0dev,>=1.56.2 in c:\\users\\2s9m7paabj\\anaconda3\\lib\\site-packages (from google-api-core[grpc]!=2.0.*,!=2.1.*,!=2.2.*,!=2.3.*,!=2.4.*,!=2.5.*,!=2.6.*,!=2.7.*,<3.0.0dev,>=1.32.0->google-cloud-speech) (1.57.0)\n",
      "Requirement already satisfied: grpcio-status<2.0dev,>=1.33.2 in c:\\users\\2s9m7paabj\\anaconda3\\lib\\site-packages (from google-api-core[grpc]!=2.0.*,!=2.1.*,!=2.2.*,!=2.3.*,!=2.4.*,!=2.5.*,!=2.6.*,!=2.7.*,<3.0.0dev,>=1.32.0->google-cloud-speech) (1.50.0)\n",
      "Requirement already satisfied: grpcio<2.0dev,>=1.33.2 in c:\\users\\2s9m7paabj\\anaconda3\\lib\\site-packages (from google-api-core[grpc]!=2.0.*,!=2.1.*,!=2.2.*,!=2.3.*,!=2.4.*,!=2.5.*,!=2.6.*,!=2.7.*,<3.0.0dev,>=1.32.0->google-cloud-speech) (1.50.0)\n",
      "Requirement already satisfied: cachetools<5.0,>=2.0.0 in c:\\users\\2s9m7paabj\\anaconda3\\lib\\site-packages (from google-auth<3.0dev,>=1.25.0->google-api-core[grpc]!=2.0.*,!=2.1.*,!=2.2.*,!=2.3.*,!=2.4.*,!=2.5.*,!=2.6.*,!=2.7.*,<3.0.0dev,>=1.32.0->google-cloud-speech) (4.2.2)\n",
      "Requirement already satisfied: pyasn1-modules>=0.2.1 in c:\\users\\2s9m7paabj\\anaconda3\\lib\\site-packages (from google-auth<3.0dev,>=1.25.0->google-api-core[grpc]!=2.0.*,!=2.1.*,!=2.2.*,!=2.3.*,!=2.4.*,!=2.5.*,!=2.6.*,!=2.7.*,<3.0.0dev,>=1.32.0->google-cloud-speech) (0.2.8)\n",
      "Requirement already satisfied: setuptools>=40.3.0 in c:\\users\\2s9m7paabj\\anaconda3\\lib\\site-packages (from google-auth<3.0dev,>=1.25.0->google-api-core[grpc]!=2.0.*,!=2.1.*,!=2.2.*,!=2.3.*,!=2.4.*,!=2.5.*,!=2.6.*,!=2.7.*,<3.0.0dev,>=1.32.0->google-cloud-speech) (61.2.0)\n",
      "Requirement already satisfied: six>=1.9.0 in c:\\users\\2s9m7paabj\\anaconda3\\lib\\site-packages (from google-auth<3.0dev,>=1.25.0->google-api-core[grpc]!=2.0.*,!=2.1.*,!=2.2.*,!=2.3.*,!=2.4.*,!=2.5.*,!=2.6.*,!=2.7.*,<3.0.0dev,>=1.32.0->google-cloud-speech) (1.16.0)\n",
      "Requirement already satisfied: rsa<5,>=3.1.4 in c:\\users\\2s9m7paabj\\anaconda3\\lib\\site-packages (from google-auth<3.0dev,>=1.25.0->google-api-core[grpc]!=2.0.*,!=2.1.*,!=2.2.*,!=2.3.*,!=2.4.*,!=2.5.*,!=2.6.*,!=2.7.*,<3.0.0dev,>=1.32.0->google-cloud-speech) (4.7.2)\n",
      "Collecting protobuf!=3.20.0,!=3.20.1,!=4.21.0,!=4.21.1,!=4.21.2,!=4.21.3,!=4.21.4,!=4.21.5,<5.0.0dev,>=3.19.5\n",
      "  Using cached protobuf-4.21.9-cp39-cp39-win_amd64.whl (525 kB)\n",
      "Requirement already satisfied: pyasn1<0.5.0,>=0.4.6 in c:\\users\\2s9m7paabj\\anaconda3\\lib\\site-packages (from pyasn1-modules>=0.2.1->google-auth<3.0dev,>=1.25.0->google-api-core[grpc]!=2.0.*,!=2.1.*,!=2.2.*,!=2.3.*,!=2.4.*,!=2.5.*,!=2.6.*,!=2.7.*,<3.0.0dev,>=1.32.0->google-cloud-speech) (0.4.8)\n",
      "Requirement already satisfied: charset-normalizer~=2.0.0 in c:\\users\\2s9m7paabj\\anaconda3\\lib\\site-packages (from requests<3.0.0dev,>=2.18.0->google-api-core[grpc]!=2.0.*,!=2.1.*,!=2.2.*,!=2.3.*,!=2.4.*,!=2.5.*,!=2.6.*,!=2.7.*,<3.0.0dev,>=1.32.0->google-cloud-speech) (2.0.4)\n",
      "Requirement already satisfied: idna<4,>=2.5 in c:\\users\\2s9m7paabj\\anaconda3\\lib\\site-packages (from requests<3.0.0dev,>=2.18.0->google-api-core[grpc]!=2.0.*,!=2.1.*,!=2.2.*,!=2.3.*,!=2.4.*,!=2.5.*,!=2.6.*,!=2.7.*,<3.0.0dev,>=1.32.0->google-cloud-speech) (3.3)\n",
      "Requirement already satisfied: urllib3<1.27,>=1.21.1 in c:\\users\\2s9m7paabj\\anaconda3\\lib\\site-packages (from requests<3.0.0dev,>=2.18.0->google-api-core[grpc]!=2.0.*,!=2.1.*,!=2.2.*,!=2.3.*,!=2.4.*,!=2.5.*,!=2.6.*,!=2.7.*,<3.0.0dev,>=1.32.0->google-cloud-speech) (1.26.9)\n",
      "Requirement already satisfied: certifi>=2017.4.17 in c:\\users\\2s9m7paabj\\anaconda3\\lib\\site-packages (from requests<3.0.0dev,>=2.18.0->google-api-core[grpc]!=2.0.*,!=2.1.*,!=2.2.*,!=2.3.*,!=2.4.*,!=2.5.*,!=2.6.*,!=2.7.*,<3.0.0dev,>=1.32.0->google-cloud-speech) (2021.10.8)\n",
      "Installing collected packages: protobuf\n",
      "  Attempting uninstall: protobuf\n",
      "    Found existing installation: protobuf 3.20.3\n",
      "    Uninstalling protobuf-3.20.3:\n",
      "      Successfully uninstalled protobuf-3.20.3\n",
      "Successfully installed protobuf-4.21.9\n"
     ]
    },
    {
     "name": "stderr",
     "output_type": "stream",
     "text": [
      "WARNING: Ignoring invalid distribution -rotobuf (c:\\users\\2s9m7paabj\\anaconda3\\lib\\site-packages)\n",
      "WARNING: Ignoring invalid distribution -rotobuf (c:\\users\\2s9m7paabj\\anaconda3\\lib\\site-packages)\n",
      "WARNING: Ignoring invalid distribution -rotobuf (c:\\users\\2s9m7paabj\\anaconda3\\lib\\site-packages)\n",
      "    WARNING: Ignoring invalid distribution -rotobuf (c:\\users\\2s9m7paabj\\anaconda3\\lib\\site-packages)\n",
      "WARNING: Ignoring invalid distribution -rotobuf (c:\\users\\2s9m7paabj\\anaconda3\\lib\\site-packages)\n",
      "WARNING: Ignoring invalid distribution -rotobuf (c:\\users\\2s9m7paabj\\anaconda3\\lib\\site-packages)\n",
      "WARNING: Ignoring invalid distribution -rotobuf (c:\\users\\2s9m7paabj\\anaconda3\\lib\\site-packages)\n",
      "WARNING: Ignoring invalid distribution -rotobuf (c:\\users\\2s9m7paabj\\anaconda3\\lib\\site-packages)\n"
     ]
    },
    {
     "name": "stdout",
     "output_type": "stream",
     "text": [
      "Requirement already satisfied: google in c:\\users\\2s9m7paabj\\anaconda3\\lib\\site-packages (3.0.0)\n",
      "Requirement already satisfied: gcloud in c:\\users\\2s9m7paabj\\anaconda3\\lib\\site-packages (0.18.3)\n",
      "Requirement already satisfied: google-auth in c:\\users\\2s9m7paabj\\anaconda3\\lib\\site-packages (1.33.0)\n",
      "Requirement already satisfied: google-cloud-speech in c:\\users\\2s9m7paabj\\anaconda3\\lib\\site-packages (2.16.2)\n",
      "Requirement already satisfied: beautifulsoup4 in c:\\users\\2s9m7paabj\\anaconda3\\lib\\site-packages (from google) (4.11.1)\n",
      "Requirement already satisfied: protobuf!=3.0.0.b2.post1,>=3.0.0b2 in c:\\users\\2s9m7paabj\\anaconda3\\lib\\site-packages (from gcloud) (4.21.9)\n",
      "Requirement already satisfied: googleapis-common-protos in c:\\users\\2s9m7paabj\\anaconda3\\lib\\site-packages (from gcloud) (1.57.0)\n",
      "Requirement already satisfied: httplib2>=0.9.1 in c:\\users\\2s9m7paabj\\anaconda3\\lib\\site-packages (from gcloud) (0.21.0)\n",
      "Requirement already satisfied: six in c:\\users\\2s9m7paabj\\anaconda3\\lib\\site-packages (from gcloud) (1.16.0)\n",
      "Requirement already satisfied: oauth2client>=2.0.1 in c:\\users\\2s9m7paabj\\anaconda3\\lib\\site-packages (from gcloud) (4.1.3)\n",
      "Requirement already satisfied: rsa<5,>=3.1.4 in c:\\users\\2s9m7paabj\\anaconda3\\lib\\site-packages (from google-auth) (4.7.2)\n",
      "Requirement already satisfied: setuptools>=40.3.0 in c:\\users\\2s9m7paabj\\anaconda3\\lib\\site-packages (from google-auth) (61.2.0)\n",
      "Requirement already satisfied: cachetools<5.0,>=2.0.0 in c:\\users\\2s9m7paabj\\anaconda3\\lib\\site-packages (from google-auth) (4.2.2)\n",
      "Requirement already satisfied: pyasn1-modules>=0.2.1 in c:\\users\\2s9m7paabj\\anaconda3\\lib\\site-packages (from google-auth) (0.2.8)\n",
      "Requirement already satisfied: google-api-core[grpc]!=2.0.*,!=2.1.*,!=2.2.*,!=2.3.*,!=2.4.*,!=2.5.*,!=2.6.*,!=2.7.*,<3.0.0dev,>=1.32.0 in c:\\users\\2s9m7paabj\\anaconda3\\lib\\site-packages (from google-cloud-speech) (2.10.2)\n",
      "Requirement already satisfied: proto-plus<2.0.0dev,>=1.22.0 in c:\\users\\2s9m7paabj\\anaconda3\\lib\\site-packages (from google-cloud-speech) (1.22.1)\n",
      "Requirement already satisfied: requests<3.0.0dev,>=2.18.0 in c:\\users\\2s9m7paabj\\anaconda3\\lib\\site-packages (from google-api-core[grpc]!=2.0.*,!=2.1.*,!=2.2.*,!=2.3.*,!=2.4.*,!=2.5.*,!=2.6.*,!=2.7.*,<3.0.0dev,>=1.32.0->google-cloud-speech) (2.27.1)\n",
      "Requirement already satisfied: grpcio-status<2.0dev,>=1.33.2 in c:\\users\\2s9m7paabj\\anaconda3\\lib\\site-packages (from google-api-core[grpc]!=2.0.*,!=2.1.*,!=2.2.*,!=2.3.*,!=2.4.*,!=2.5.*,!=2.6.*,!=2.7.*,<3.0.0dev,>=1.32.0->google-cloud-speech) (1.50.0)\n",
      "Requirement already satisfied: grpcio<2.0dev,>=1.33.2 in c:\\users\\2s9m7paabj\\anaconda3\\lib\\site-packages (from google-api-core[grpc]!=2.0.*,!=2.1.*,!=2.2.*,!=2.3.*,!=2.4.*,!=2.5.*,!=2.6.*,!=2.7.*,<3.0.0dev,>=1.32.0->google-cloud-speech) (1.50.0)\n",
      "Requirement already satisfied: pyparsing!=3.0.0,!=3.0.1,!=3.0.2,!=3.0.3,<4,>=2.4.2 in c:\\users\\2s9m7paabj\\anaconda3\\lib\\site-packages (from httplib2>=0.9.1->gcloud) (3.0.4)\n",
      "Requirement already satisfied: pyasn1>=0.1.7 in c:\\users\\2s9m7paabj\\anaconda3\\lib\\site-packages (from oauth2client>=2.0.1->gcloud) (0.4.8)\n",
      "Requirement already satisfied: idna<4,>=2.5 in c:\\users\\2s9m7paabj\\anaconda3\\lib\\site-packages (from requests<3.0.0dev,>=2.18.0->google-api-core[grpc]!=2.0.*,!=2.1.*,!=2.2.*,!=2.3.*,!=2.4.*,!=2.5.*,!=2.6.*,!=2.7.*,<3.0.0dev,>=1.32.0->google-cloud-speech) (3.3)\n",
      "Requirement already satisfied: urllib3<1.27,>=1.21.1 in c:\\users\\2s9m7paabj\\anaconda3\\lib\\site-packages (from requests<3.0.0dev,>=2.18.0->google-api-core[grpc]!=2.0.*,!=2.1.*,!=2.2.*,!=2.3.*,!=2.4.*,!=2.5.*,!=2.6.*,!=2.7.*,<3.0.0dev,>=1.32.0->google-cloud-speech) (1.26.9)\n",
      "Requirement already satisfied: certifi>=2017.4.17 in c:\\users\\2s9m7paabj\\anaconda3\\lib\\site-packages (from requests<3.0.0dev,>=2.18.0->google-api-core[grpc]!=2.0.*,!=2.1.*,!=2.2.*,!=2.3.*,!=2.4.*,!=2.5.*,!=2.6.*,!=2.7.*,<3.0.0dev,>=1.32.0->google-cloud-speech) (2021.10.8)\n",
      "Requirement already satisfied: charset-normalizer~=2.0.0 in c:\\users\\2s9m7paabj\\anaconda3\\lib\\site-packages (from requests<3.0.0dev,>=2.18.0->google-api-core[grpc]!=2.0.*,!=2.1.*,!=2.2.*,!=2.3.*,!=2.4.*,!=2.5.*,!=2.6.*,!=2.7.*,<3.0.0dev,>=1.32.0->google-cloud-speech) (2.0.4)\n",
      "Requirement already satisfied: soupsieve>1.2 in c:\\users\\2s9m7paabj\\anaconda3\\lib\\site-packages (from beautifulsoup4->google) (2.3.1)\n"
     ]
    },
    {
     "name": "stderr",
     "output_type": "stream",
     "text": [
      "WARNING: Ignoring invalid distribution -rotobuf (c:\\users\\2s9m7paabj\\anaconda3\\lib\\site-packages)\n",
      "WARNING: Ignoring invalid distribution -rotobuf (c:\\users\\2s9m7paabj\\anaconda3\\lib\\site-packages)\n",
      "WARNING: Ignoring invalid distribution -rotobuf (c:\\users\\2s9m7paabj\\anaconda3\\lib\\site-packages)\n",
      "WARNING: Ignoring invalid distribution -rotobuf (c:\\users\\2s9m7paabj\\anaconda3\\lib\\site-packages)\n",
      "WARNING: Ignoring invalid distribution -rotobuf (c:\\users\\2s9m7paabj\\anaconda3\\lib\\site-packages)\n",
      "WARNING: Ignoring invalid distribution -rotobuf (c:\\users\\2s9m7paabj\\anaconda3\\lib\\site-packages)\n"
     ]
    },
    {
     "name": "stdout",
     "output_type": "stream",
     "text": [
      "Requirement already satisfied: pyaudio in c:\\users\\2s9m7paabj\\anaconda3\\lib\\site-packages (0.2.12)\n"
     ]
    },
    {
     "name": "stderr",
     "output_type": "stream",
     "text": [
      "WARNING: Ignoring invalid distribution -rotobuf (c:\\users\\2s9m7paabj\\anaconda3\\lib\\site-packages)\n",
      "WARNING: Ignoring invalid distribution -rotobuf (c:\\users\\2s9m7paabj\\anaconda3\\lib\\site-packages)\n",
      "WARNING: Ignoring invalid distribution -rotobuf (c:\\users\\2s9m7paabj\\anaconda3\\lib\\site-packages)\n",
      "WARNING: Ignoring invalid distribution -rotobuf (c:\\users\\2s9m7paabj\\anaconda3\\lib\\site-packages)\n",
      "WARNING: Ignoring invalid distribution -rotobuf (c:\\users\\2s9m7paabj\\anaconda3\\lib\\site-packages)\n",
      "WARNING: Ignoring invalid distribution -rotobuf (c:\\users\\2s9m7paabj\\anaconda3\\lib\\site-packages)\n"
     ]
    },
    {
     "name": "stdout",
     "output_type": "stream",
     "text": [
      "Requirement already satisfied: grpc.google.cloud.speech-v1 in c:\\users\\2s9m7paabj\\anaconda3\\lib\\site-packages (0.8.1)\n",
      "Requirement already satisfied: oauth2client>=1.4.11 in c:\\users\\2s9m7paabj\\anaconda3\\lib\\site-packages (from grpc.google.cloud.speech-v1) (4.1.3)\n",
      "Requirement already satisfied: googleapis-common-protos>=1.1.0 in c:\\users\\2s9m7paabj\\anaconda3\\lib\\site-packages (from grpc.google.cloud.speech-v1) (1.57.0)\n",
      "Requirement already satisfied: grpcio>=1.0rc1 in c:\\users\\2s9m7paabj\\anaconda3\\lib\\site-packages (from grpc.google.cloud.speech-v1) (1.50.0)\n",
      "Requirement already satisfied: protobuf!=3.20.0,!=3.20.1,!=4.21.1,!=4.21.2,!=4.21.3,!=4.21.4,!=4.21.5,<5.0.0dev,>=3.19.5 in c:\\users\\2s9m7paabj\\anaconda3\\lib\\site-packages (from googleapis-common-protos>=1.1.0->grpc.google.cloud.speech-v1) (4.21.9)\n",
      "Requirement already satisfied: six>=1.5.2 in c:\\users\\2s9m7paabj\\anaconda3\\lib\\site-packages (from grpcio>=1.0rc1->grpc.google.cloud.speech-v1) (1.16.0)\n",
      "Requirement already satisfied: rsa>=3.1.4 in c:\\users\\2s9m7paabj\\anaconda3\\lib\\site-packages (from oauth2client>=1.4.11->grpc.google.cloud.speech-v1) (4.7.2)\n",
      "Requirement already satisfied: pyasn1>=0.1.7 in c:\\users\\2s9m7paabj\\anaconda3\\lib\\site-packages (from oauth2client>=1.4.11->grpc.google.cloud.speech-v1) (0.4.8)\n",
      "Requirement already satisfied: httplib2>=0.9.1 in c:\\users\\2s9m7paabj\\anaconda3\\lib\\site-packages (from oauth2client>=1.4.11->grpc.google.cloud.speech-v1) (0.21.0)\n",
      "Requirement already satisfied: pyasn1-modules>=0.0.5 in c:\\users\\2s9m7paabj\\anaconda3\\lib\\site-packages (from oauth2client>=1.4.11->grpc.google.cloud.speech-v1) (0.2.8)\n",
      "Requirement already satisfied: pyparsing!=3.0.0,!=3.0.1,!=3.0.2,!=3.0.3,<4,>=2.4.2 in c:\\users\\2s9m7paabj\\anaconda3\\lib\\site-packages (from httplib2>=0.9.1->oauth2client>=1.4.11->grpc.google.cloud.speech-v1) (3.0.4)\n"
     ]
    },
    {
     "name": "stderr",
     "output_type": "stream",
     "text": [
      "WARNING: Ignoring invalid distribution -rotobuf (c:\\users\\2s9m7paabj\\anaconda3\\lib\\site-packages)\n",
      "WARNING: Ignoring invalid distribution -rotobuf (c:\\users\\2s9m7paabj\\anaconda3\\lib\\site-packages)\n",
      "WARNING: Ignoring invalid distribution -rotobuf (c:\\users\\2s9m7paabj\\anaconda3\\lib\\site-packages)\n",
      "WARNING: Ignoring invalid distribution -rotobuf (c:\\users\\2s9m7paabj\\anaconda3\\lib\\site-packages)\n",
      "WARNING: Ignoring invalid distribution -rotobuf (c:\\users\\2s9m7paabj\\anaconda3\\lib\\site-packages)\n",
      "WARNING: Ignoring invalid distribution -rotobuf (c:\\users\\2s9m7paabj\\anaconda3\\lib\\site-packages)\n"
     ]
    },
    {
     "name": "stdout",
     "output_type": "stream",
     "text": [
      "Collecting protobuf==3.20.*\n",
      "  Using cached protobuf-3.20.3-cp39-cp39-win_amd64.whl (904 kB)\n",
      "Installing collected packages: protobuf\n",
      "  Attempting uninstall: protobuf\n",
      "    Found existing installation: protobuf 4.21.9\n",
      "    Uninstalling protobuf-4.21.9:\n",
      "      Successfully uninstalled protobuf-4.21.9\n",
      "Successfully installed protobuf-3.20.3\n"
     ]
    },
    {
     "name": "stderr",
     "output_type": "stream",
     "text": [
      "WARNING: Ignoring invalid distribution -rotobuf (c:\\users\\2s9m7paabj\\anaconda3\\lib\\site-packages)\n",
      "WARNING: Ignoring invalid distribution -rotobuf (c:\\users\\2s9m7paabj\\anaconda3\\lib\\site-packages)\n",
      "WARNING: Ignoring invalid distribution -rotobuf (c:\\users\\2s9m7paabj\\anaconda3\\lib\\site-packages)\n",
      "    WARNING: Ignoring invalid distribution -rotobuf (c:\\users\\2s9m7paabj\\anaconda3\\lib\\site-packages)\n",
      "WARNING: Ignoring invalid distribution -rotobuf (c:\\users\\2s9m7paabj\\anaconda3\\lib\\site-packages)\n",
      "ERROR: pip's dependency resolver does not currently take into account all the packages that are installed. This behaviour is the source of the following dependency conflicts.\n",
      "grpcio-status 1.50.0 requires protobuf>=4.21.6, but you have protobuf 3.20.3 which is incompatible.\n",
      "WARNING: Ignoring invalid distribution -rotobuf (c:\\users\\2s9m7paabj\\anaconda3\\lib\\site-packages)\n",
      "WARNING: Ignoring invalid distribution -rotobuf (c:\\users\\2s9m7paabj\\anaconda3\\lib\\site-packages)\n",
      "WARNING: Ignoring invalid distribution -rotobuf (c:\\users\\2s9m7paabj\\anaconda3\\lib\\site-packages)\n"
     ]
    }
   ],
   "source": [
    "!pip install --upgrade google-cloud-speech\n",
    "!pip install google gcloud google-auth google-cloud-speech\n",
    "!pip install pyaudio\n",
    "!pip install grpc.google.cloud.speech-v1\n",
    "!pip install protobuf==3.20.*"
   ]
  },
  {
   "cell_type": "code",
   "execution_count": 24,
   "id": "ef3aee92-759a-4885-b33e-b9617e28d3e8",
   "metadata": {
    "tags": []
   },
   "outputs": [
    {
     "name": "stdout",
     "output_type": "stream",
     "text": [
      "spyder 5.1.5 requires pyqt5, which is not installed.\n",
      "spyder 5.1.5 requires pyqtwebengine, which is not installed.\n",
      "daal4py 2021.5.0 requires daal, which is not installed.\n",
      "conda-repo-cli 1.0.4 requires pathlib, which is not installed.\n",
      "anaconda-project 0.10.2 requires ruamel-yaml, which is not installed.\n",
      "jupyter-server 1.13.5 has requirement pywinpty<2; os_name == \"nt\", but you have pywinpty 2.0.2.\n",
      "grpcio-status 1.50.0 has requirement protobuf>=4.21.6, but you have protobuf 3.20.3.\n",
      "google-cloud-core 1.7.1 has requirement google-api-core<2.0.0dev,>=1.21.0, but you have google-api-core 2.10.2.\n",
      "autopep8 1.6.0 has requirement pycodestyle>=2.8.0, but you have pycodestyle 2.7.0.\n"
     ]
    },
    {
     "name": "stderr",
     "output_type": "stream",
     "text": [
      "WARNING: Ignoring invalid distribution -rotobuf (c:\\users\\2s9m7paabj\\anaconda3\\lib\\site-packages)\n"
     ]
    }
   ],
   "source": [
    "!pip check"
   ]
  },
  {
   "cell_type": "code",
   "execution_count": 18,
   "id": "cb8dfa33-3005-4f80-999d-ff1334124cc7",
   "metadata": {
    "jupyter": {
     "source_hidden": true
    },
    "tags": []
   },
   "outputs": [],
   "source": [
    "\n",
    "# # Imports the Google Cloud client library\n",
    "# from google.cloud import speech\n",
    "# import io\n",
    "\n",
    "# # Instantiates a client\n",
    "# client = speech.SpeechClient()\n",
    "\n",
    "# # The name of the audio file to transcribe\n",
    "# #gcs_uri = \"gs://cloud-samples-data/speech/brooklyn_bridge.raw\"\n",
    "# with io.open(\"english.wav\",\"rb\") as f:\n",
    "#     content = f.read()\n",
    "\n",
    "# audio = speech.RecognitionAudio(content=content)\n",
    "\n",
    "# config = speech.RecognitionConfig(\n",
    "#     encoding=speech.RecognitionConfig.AudioEncoding.LINEAR16,\n",
    "#     sample_rate_hertz=8000,\n",
    "#     language_code=\"en-US\",\n",
    "# )\n",
    "\n",
    "# # Detects speech in the audio file\n",
    "# response = client.recognize(config=config, audio=audio)\n",
    "\n",
    "# for result in response.results:\n",
    "#     print(\"Transcript: {}\".format(result.alternatives[0].transcript))"
   ]
  },
  {
   "cell_type": "code",
   "execution_count": 25,
   "id": "b4069d64-761c-4218-950a-6ba12d031436",
   "metadata": {},
   "outputs": [
    {
     "ename": "AttributeError",
     "evalue": "module 'google.cloud.speech' has no attribute 'SpeechClient'",
     "output_type": "error",
     "traceback": [
      "\u001b[1;31m---------------------------------------------------------------------------\u001b[0m",
      "\u001b[1;31mAttributeError\u001b[0m                            Traceback (most recent call last)",
      "Input \u001b[1;32mIn [25]\u001b[0m, in \u001b[0;36m<cell line: 165>\u001b[1;34m()\u001b[0m\n\u001b[0;32m    163\u001b[0m         listen_print_loop(responses)\n\u001b[0;32m    165\u001b[0m \u001b[38;5;28;01mif\u001b[39;00m \u001b[38;5;18m__name__\u001b[39m \u001b[38;5;241m==\u001b[39m \u001b[38;5;124m\"\u001b[39m\u001b[38;5;124m__main__\u001b[39m\u001b[38;5;124m\"\u001b[39m:\n\u001b[1;32m--> 166\u001b[0m     \u001b[43mmain\u001b[49m\u001b[43m(\u001b[49m\u001b[43m)\u001b[49m\n",
      "Input \u001b[1;32mIn [25]\u001b[0m, in \u001b[0;36mmain\u001b[1;34m()\u001b[0m\n\u001b[0;32m    137\u001b[0m \u001b[38;5;28;01mdef\u001b[39;00m \u001b[38;5;21mmain\u001b[39m():\n\u001b[0;32m    138\u001b[0m     \u001b[38;5;66;03m# See http://g.co/cloud/speech/docs/languages\u001b[39;00m\n\u001b[0;32m    139\u001b[0m     \u001b[38;5;66;03m# for a list of supported languages.\u001b[39;00m\n\u001b[0;32m    140\u001b[0m     language_code \u001b[38;5;241m=\u001b[39m \u001b[38;5;124m\"\u001b[39m\u001b[38;5;124mjp-JP\u001b[39m\u001b[38;5;124m\"\u001b[39m  \u001b[38;5;66;03m# a BCP-47 language tag\u001b[39;00m\n\u001b[1;32m--> 142\u001b[0m     client \u001b[38;5;241m=\u001b[39m \u001b[43mspeech\u001b[49m\u001b[38;5;241;43m.\u001b[39;49m\u001b[43mSpeechClient\u001b[49m()\n\u001b[0;32m    143\u001b[0m     config \u001b[38;5;241m=\u001b[39m speech\u001b[38;5;241m.\u001b[39mRecognitionConfig(\n\u001b[0;32m    144\u001b[0m         encoding\u001b[38;5;241m=\u001b[39mspeech\u001b[38;5;241m.\u001b[39mRecognitionConfig\u001b[38;5;241m.\u001b[39mAudioEncoding\u001b[38;5;241m.\u001b[39mLINEAR16,\n\u001b[0;32m    145\u001b[0m         sample_rate_hertz\u001b[38;5;241m=\u001b[39mRATE,\n\u001b[0;32m    146\u001b[0m         language_code\u001b[38;5;241m=\u001b[39mlanguage_code,\n\u001b[0;32m    147\u001b[0m     )\n\u001b[0;32m    149\u001b[0m     streaming_config \u001b[38;5;241m=\u001b[39m speech\u001b[38;5;241m.\u001b[39mStreamingRecognitionConfig(\n\u001b[0;32m    150\u001b[0m         config\u001b[38;5;241m=\u001b[39mconfig, interim_results\u001b[38;5;241m=\u001b[39m\u001b[38;5;28;01mTrue\u001b[39;00m\n\u001b[0;32m    151\u001b[0m     )\n",
      "\u001b[1;31mAttributeError\u001b[0m: module 'google.cloud.speech' has no attribute 'SpeechClient'"
     ]
    }
   ],
   "source": [
    "from __future__ import division\n",
    "\n",
    "import re\n",
    "import sys\n",
    "\n",
    "from google.cloud import speech\n",
    "#from google.cloud import speech_v1 as speech\n",
    "\n",
    "import pyaudio\n",
    "from six.moves import queue\n",
    "\n",
    "# Audio recording parameters\n",
    "RATE = 16000\n",
    "CHUNK = int(RATE / 10)  # 100ms\n",
    "\n",
    "class MicrophoneStream(object):\n",
    "    \"\"\"Opens a recording stream as a generator yielding the audio chunks.\"\"\"\n",
    "\n",
    "    def __init__(self, rate, chunk):\n",
    "        self._rate = rate\n",
    "        self._chunk = chunk\n",
    "\n",
    "        # Create a thread-safe buffer of audio data\n",
    "        self._buff = queue.Queue()\n",
    "        self.closed = True\n",
    "\n",
    "    def __enter__(self):\n",
    "        self._audio_interface = pyaudio.PyAudio()\n",
    "        self._audio_stream = self._audio_interface.open(\n",
    "            format=pyaudio.paInt16,\n",
    "            # The API currently only supports 1-channel (mono) audio\n",
    "            # https://goo.gl/z757pE\n",
    "            channels=1,\n",
    "            rate=self._rate,\n",
    "            input=True,\n",
    "            frames_per_buffer=self._chunk,\n",
    "            # Run the audio stream asynchronously to fill the buffer object.\n",
    "            # This is necessary so that the input device's buffer doesn't\n",
    "            # overflow while the calling thread makes network requests, etc.\n",
    "            stream_callback=self._fill_buffer,\n",
    "        )\n",
    "\n",
    "        self.closed = False\n",
    "\n",
    "        return self\n",
    "\n",
    "    def __exit__(self, type, value, traceback):\n",
    "        self._audio_stream.stop_stream()\n",
    "        self._audio_stream.close()\n",
    "        self.closed = True\n",
    "        # Signal the generator to terminate so that the client's\n",
    "        # streaming_recognize method will not block the process termination.\n",
    "        self._buff.put(None)\n",
    "        self._audio_interface.terminate()\n",
    "\n",
    "    def _fill_buffer(self, in_data, frame_count, time_info, status_flags):\n",
    "        \"\"\"Continuously collect data from the audio stream, into the buffer.\"\"\"\n",
    "        self._buff.put(in_data)\n",
    "        return None, pyaudio.paContinue\n",
    "\n",
    "    def generator(self):\n",
    "        while not self.closed:\n",
    "            # Use a blocking get() to ensure there's at least one chunk of\n",
    "            # data, and stop iteration if the chunk is None, indicating the\n",
    "            # end of the audio stream.\n",
    "            chunk = self._buff.get()\n",
    "            if chunk is None:\n",
    "                return\n",
    "            data = [chunk]\n",
    "\n",
    "            # Now consume whatever other data's still buffered.\n",
    "            while True:\n",
    "                try:\n",
    "                    chunk = self._buff.get(block=False)\n",
    "                    if chunk is None:\n",
    "                        return\n",
    "                    data.append(chunk)\n",
    "                except queue.Empty:\n",
    "                    break\n",
    "\n",
    "            yield b\"\".join(data)\n",
    "\n",
    "def listen_print_loop(responses):\n",
    "    \"\"\"Iterates through server responses and prints them.\n",
    "\n",
    "    The responses passed is a generator that will block until a response\n",
    "    is provided by the server.\n",
    "\n",
    "    Each response may contain multiple results, and each result may contain\n",
    "    multiple alternatives; for details, see https://goo.gl/tjCPAU.  Here we\n",
    "    print only the transcription for the top alternative of the top result.\n",
    "\n",
    "    In this case, responses are provided for interim results as well. If the\n",
    "    response is an interim one, print a line feed at the end of it, to allow\n",
    "    the next result to overwrite it, until the response is a final one. For the\n",
    "    final one, print a newline to preserve the finalized transcription.\n",
    "    \"\"\"\n",
    "    num_chars_printed = 0\n",
    "    for response in responses:\n",
    "        if not response.results:\n",
    "            continue\n",
    "\n",
    "        # The `results` list is consecutive. For streaming, we only care about\n",
    "        # the first result being considered, since once it's `is_final`, it\n",
    "        # moves on to considering the next utterance.\n",
    "        result = response.results[0]\n",
    "        if not result.alternatives:\n",
    "            continue\n",
    "\n",
    "        # Display the transcription of the top alternative.\n",
    "        transcript = result.alternatives[0].transcript\n",
    "\n",
    "        # Display interim results, but with a carriage return at the end of the\n",
    "        # line, so subsequent lines will overwrite them.\n",
    "        #\n",
    "        # If the previous result was longer than this one, we need to print\n",
    "        # some extra spaces to overwrite the previous result\n",
    "        overwrite_chars = \" \" * (num_chars_printed - len(transcript))\n",
    "\n",
    "        if not result.is_final:\n",
    "            sys.stdout.write(transcript + overwrite_chars + \"\\r\")\n",
    "            sys.stdout.flush()\n",
    "\n",
    "            num_chars_printed = len(transcript)\n",
    "\n",
    "        else:\n",
    "            print(transcript + overwrite_chars)\n",
    "\n",
    "            # Exit recognition if any of the transcribed phrases could be\n",
    "            # one of our keywords.\n",
    "            if re.search(r\"\\b(exit|quit)\\b\", transcript, re.I):\n",
    "                print(\"Exiting..\")\n",
    "                break\n",
    "\n",
    "            num_chars_printed = 0\n",
    "\n",
    "def main():\n",
    "    # See http://g.co/cloud/speech/docs/languages\n",
    "    # for a list of supported languages.\n",
    "    language_code = \"jp-JP\"  # a BCP-47 language tag\n",
    "\n",
    "    client = speech.SpeechClient()\n",
    "    config = speech.RecognitionConfig(\n",
    "        encoding=speech.RecognitionConfig.AudioEncoding.LINEAR16,\n",
    "        sample_rate_hertz=RATE,\n",
    "        language_code=language_code,\n",
    "    )\n",
    "\n",
    "    streaming_config = speech.StreamingRecognitionConfig(\n",
    "        config=config, interim_results=True\n",
    "    )\n",
    "\n",
    "    with MicrophoneStream(RATE, CHUNK) as stream:\n",
    "        audio_generator = stream.generator()\n",
    "        requests = (\n",
    "            speech.StreamingRecognizeRequest(audio_content=content)\n",
    "            for content in audio_generator\n",
    "        )\n",
    "\n",
    "        responses = client.streaming_recognize(streaming_config, requests)\n",
    "\n",
    "        # Now, put the transcription responses to use.\n",
    "        listen_print_loop(responses)\n",
    "\n",
    "if __name__ == \"__main__\":\n",
    "    main()"
   ]
  },
  {
   "cell_type": "code",
   "execution_count": null,
   "id": "e8d6e2ed-c01a-4e8b-a896-e52cf23422e8",
   "metadata": {},
   "outputs": [],
   "source": [
    "pip list"
   ]
  },
  {
   "cell_type": "code",
   "execution_count": null,
   "id": "eb362999-1647-4f7a-8d5e-5655e428585c",
   "metadata": {},
   "outputs": [],
   "source": []
  }
 ],
 "metadata": {
  "kernelspec": {
   "display_name": "Python 3 (ipykernel)",
   "language": "python",
   "name": "python3"
  },
  "language_info": {
   "codemirror_mode": {
    "name": "ipython",
    "version": 3
   },
   "file_extension": ".py",
   "mimetype": "text/x-python",
   "name": "python",
   "nbconvert_exporter": "python",
   "pygments_lexer": "ipython3",
   "version": "3.9.12"
  }
 },
 "nbformat": 4,
 "nbformat_minor": 5
}
