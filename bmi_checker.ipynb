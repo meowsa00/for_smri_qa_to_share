{
 "cells": [
  {
   "cell_type": "code",
   "execution_count": null,
   "id": "aecd67e4-a49e-42f1-95f5-7c3cb2d36ef8",
   "metadata": {
    "tags": []
   },
   "outputs": [
    {
     "name": "stdout",
     "output_type": "stream",
     "text": [
      "あなたのBMIをチェックしてみましょう\n",
      "WHOの国際的な基準によると、BMI25以上が過体重、30以上が肥満です。しかし、日本人の場合、BMI25以下であっても2型糖尿病や循環器の病気の発生リスクが高いとされています。\n",
      "日本ではWHOの基準によらず、BMI25以上を肥満とし、もっとも病気にかかりにくい標準体重をBMI22とする、日本肥満学会による判定基準が使われています。\n",
      "\n",
      "次の方どうぞ==============================\n"
     ]
    },
    {
     "name": "stdin",
     "output_type": "stream",
     "text": [
      "身長を小数点1位まで半角数字で入力してください（cm）> 173.5\n"
     ]
    }
   ],
   "source": [
    "def BMI_checker(t,w):\n",
    "    your_bmi = float(float(w) / ((float(t)/100.)**2.))\n",
    "    best_weight = float(float(22) *((float(t)/100.)**2.))\n",
    "    print(f\"あなたの身長は{t:.1f}cm\")\n",
    "    print(f\"あなたの体重は{w:.1f}kg\")\n",
    "    \n",
    "    \n",
    "    if your_bmi < 16.00:\n",
    "        print(f\"あなたのBMIは={your_bmi:.2f}です\")\n",
    "        print(\"あなたは、重度の痩せに分類されます\")\n",
    "        print(f\"標準体重まで体重をあと{best_weight-w:.1f}kg増やした方が良いです\")\n",
    "        print()\n",
    "    elif 16.00 <= your_bmi < 17.00:\n",
    "        print(f\"あなたのBMIは={your_bmi:.2f}です\")\n",
    "        print(\"あなたは、中度の痩せに分類されます\")\n",
    "        print(f\"標準体重まで体重をあと{best_weight-w:.1f}kg増やした方が良いです\")\n",
    "        print()\n",
    "    elif 17.00 <= your_bmi < 18.50:\n",
    "        print(f\"あなたのBMIは={your_bmi:.2f}です\")\n",
    "        print(\"あなたは、軽度の痩せに分類されます\")\n",
    "        print(f\"標準体重まで体重をあと{best_weight-w:.1f}kg増やした方が良いです\")\n",
    "        print()\n",
    "    elif 18.50 <= your_bmi < 22.00:\n",
    "        print(f\"あなたのBMIは={your_bmi:.2f}です\")\n",
    "        print(\"あなたは、普通体重に分類されます\")\n",
    "        print(f\"あと{best_weight-w:.1f}kg増やすともっとも病気にかかりにくいとされている標準体重になります\")\n",
    "        print()\n",
    "    elif 22.00 <= your_bmi < 25.00:\n",
    "        print(f\"あなたのBMIは={your_bmi:.2f}です\")\n",
    "        print(\"あなたは、普通体重に分類されます\")\n",
    "        print(f\"あと{best_weight-w:.1f}kg減らすともっとも病気にかかりにくいとされている標準体重になります\")\n",
    "        print()\n",
    "    elif 25.00 <= your_bmi < 30.00:\n",
    "        print(f\"あなたのBMIは={your_bmi:.2f}です\")\n",
    "        print(\"あなたは、肥満(1度)肥満予備軍に分類されます\")\n",
    "        print(f\"標準体重まで体重をあと{best_weight-w:.1f}kg減らした方が良いです\")\n",
    "        print()\n",
    "    elif 30.00 <= your_bmi < 35.00:\n",
    "        print(f\"あなたのBMIは={your_bmi:.2f}です\")\n",
    "        print(\"あなたは、肥満(2度)に分類されます\")\n",
    "        print(f\"標準体重まで体重をあと{best_weight-w:.1f}kg減らした方が良いです\")\n",
    "        print()\n",
    "    elif 35.00 <= your_bmi < 40.00:\n",
    "        print(f\"あなたのBMIは={your_bmi:.2f}です\")\n",
    "        print(\"あなたは、肥満(3度)に分類されます\")\n",
    "        print(f\"標準体重まで体重をあと{best_weight-w:.1f}kg減らした方が良いです\")\n",
    "        print()\n",
    "    elif 40.00 <= your_bmi:\n",
    "        print(f\"あなたのBMIは={your_bmi:.2f}です\")\n",
    "        print(\"あなたは、肥満(4度)に分類されます\")\n",
    "        print(f\"標準体重まで体重をあと{best_weight-w:.1f}kg減らした方が良いです\\n\")\n",
    "        print()\n",
    "    \n",
    "t = 0\n",
    "w = 0\n",
    "while True:\n",
    "    print(\"あなたのBMIをチェックしてみましょう\")\n",
    "    print(\"WHOの国際的な基準によると、BMI25以上が過体重、30以上が肥満です。\\\n",
    "しかし、日本人の場合、BMI25以下であっても2型糖尿病や循環器の病気の発生リスクが高いとされています。\")\n",
    "    print(\"日本ではWHOの基準によらず、BMI25以上を肥満とし、\\\n",
    "もっとも病気にかかりにくい標準体重をBMI22とする、\\\n",
    "日本肥満学会による判定基準が使われています。\\n\")\n",
    "    print(\"次の方どうぞ\"+\"=\"*30)\n",
    "    t = input(\"身長を小数点1位まで半角数字で入力してください（cm）>\")\n",
    "    if float(t) == float:\n",
    "        w = input(\"体重を小数点1位まで半角数字で入力してください（kg）>\")\n",
    "        w = float(w)\n",
    "        if w == float:\n",
    "            BMI_checker(t,w)\n",
    "        else:\n",
    "            w = input(\"体重を小数点1位まで半角数字で入力してください（kg）>\")\n",
    "            \n",
    "    else:\n",
    "        t = input(\"身長を小数点1位まで半角数字で入力してください（cm）>\")\n",
    "   \n",
    "    \n",
    "        "
   ]
  },
  {
   "cell_type": "code",
   "execution_count": null,
   "id": "dbb3fc52-a26d-4a4e-a64a-9aeb3d23d6ec",
   "metadata": {},
   "outputs": [],
   "source": []
  },
  {
   "cell_type": "code",
   "execution_count": null,
   "id": "400d2208-b247-4fd4-ad37-f13592122429",
   "metadata": {},
   "outputs": [],
   "source": []
  }
 ],
 "metadata": {
  "kernelspec": {
   "display_name": "Python 3 (ipykernel)",
   "language": "python",
   "name": "python3"
  },
  "language_info": {
   "codemirror_mode": {
    "name": "ipython",
    "version": 3
   },
   "file_extension": ".py",
   "mimetype": "text/x-python",
   "name": "python",
   "nbconvert_exporter": "python",
   "pygments_lexer": "ipython3",
   "version": "3.9.13"
  }
 },
 "nbformat": 4,
 "nbformat_minor": 5
}
