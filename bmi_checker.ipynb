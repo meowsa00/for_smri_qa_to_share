{
 "cells": [
  {
   "cell_type": "code",
   "execution_count": 1,
   "id": "aecd67e4-a49e-42f1-95f5-7c3cb2d36ef8",
   "metadata": {
    "tags": []
   },
   "outputs": [
    {
     "name": "stdout",
     "output_type": "stream",
     "text": [
      "あなたのBMIをチェックしてみましょう\n",
      "WHOの国際的な基準によると、BMI25以上が過体重、30以上が肥満です。しかし、日本人の場合、BMI25以下であっても2型糖尿病や循環器の病気の発生リスクが高いとされています。\n",
      "日本ではWHOの基準によらず、BMI25以上を肥満とし、もっとも病気にかかりにくい標準体重をBMI22とする、日本肥満学会による判定基準が使われています。\n",
      "\n",
      "次の方どうぞ==============================\n"
     ]
    },
    {
     "name": "stdin",
     "output_type": "stream",
     "text": [
      "身長を小数点1位まで半角数字で入力してください（cm）> ががが\n",
      "身長を小数点1位まで半角数字で入力してください（cm）> 173\n"
     ]
    },
    {
     "name": "stdout",
     "output_type": "stream",
     "text": [
      "あなたのBMIをチェックしてみましょう\n",
      "WHOの国際的な基準によると、BMI25以上が過体重、30以上が肥満です。しかし、日本人の場合、BMI25以下であっても2型糖尿病や循環器の病気の発生リスクが高いとされています。\n",
      "日本ではWHOの基準によらず、BMI25以上を肥満とし、もっとも病気にかかりにくい標準体重をBMI22とする、日本肥満学会による判定基準が使われています。\n",
      "\n",
      "次の方どうぞ==============================\n"
     ]
    },
    {
     "name": "stdin",
     "output_type": "stream",
     "text": [
      "身長を小数点1位まで半角数字で入力してください（cm）> 173.5\n",
      "身長を小数点1位まで半角数字で入力してください（cm）> 179.55\n"
     ]
    },
    {
     "name": "stdout",
     "output_type": "stream",
     "text": [
      "あなたのBMIをチェックしてみましょう\n",
      "WHOの国際的な基準によると、BMI25以上が過体重、30以上が肥満です。しかし、日本人の場合、BMI25以下であっても2型糖尿病や循環器の病気の発生リスクが高いとされています。\n",
      "日本ではWHOの基準によらず、BMI25以上を肥満とし、もっとも病気にかかりにくい標準体重をBMI22とする、日本肥満学会による判定基準が使われています。\n",
      "\n",
      "次の方どうぞ==============================\n"
     ]
    },
    {
     "ename": "KeyboardInterrupt",
     "evalue": "Interrupted by user",
     "output_type": "error",
     "traceback": [
      "\u001b[0;31m---------------------------------------------------------------------------\u001b[0m",
      "\u001b[0;31mKeyboardInterrupt\u001b[0m                         Traceback (most recent call last)",
      "Input \u001b[0;32mIn [1]\u001b[0m, in \u001b[0;36m<cell line: 57>\u001b[0;34m()\u001b[0m\n\u001b[1;32m     60\u001b[0m     \u001b[38;5;28mprint\u001b[39m(\u001b[38;5;124m\"\u001b[39m\u001b[38;5;124m日本ではWHOの基準によらず、BMI25以上を肥満とし、\u001b[39m\u001b[38;5;130;01m\\\u001b[39;00m\n\u001b[1;32m     61\u001b[0m \u001b[38;5;124mもっとも病気にかかりにくい標準体重をBMI22とする、\u001b[39m\u001b[38;5;130;01m\\\u001b[39;00m\n\u001b[1;32m     62\u001b[0m \u001b[38;5;124m日本肥満学会による判定基準が使われています。\u001b[39m\u001b[38;5;130;01m\\n\u001b[39;00m\u001b[38;5;124m\"\u001b[39m)\n\u001b[1;32m     63\u001b[0m     \u001b[38;5;28mprint\u001b[39m(\u001b[38;5;124m\"\u001b[39m\u001b[38;5;124m次の方どうぞ\u001b[39m\u001b[38;5;124m\"\u001b[39m\u001b[38;5;241m+\u001b[39m\u001b[38;5;124m\"\u001b[39m\u001b[38;5;124m=\u001b[39m\u001b[38;5;124m\"\u001b[39m\u001b[38;5;241m*\u001b[39m\u001b[38;5;241m30\u001b[39m)\n\u001b[0;32m---> 64\u001b[0m     t \u001b[38;5;241m=\u001b[39m \u001b[38;5;28;43minput\u001b[39;49m\u001b[43m(\u001b[49m\u001b[38;5;124;43m\"\u001b[39;49m\u001b[38;5;124;43m身長を小数点1位まで半角数字で入力してください（cm）>\u001b[39;49m\u001b[38;5;124;43m\"\u001b[39;49m\u001b[43m)\u001b[49m\n\u001b[1;32m     65\u001b[0m     \u001b[38;5;28;01mif\u001b[39;00m \u001b[38;5;28mtype\u001b[39m(t) \u001b[38;5;129;01min\u001b[39;00m (\u001b[38;5;28mint\u001b[39m,\u001b[38;5;28mfloat\u001b[39m):\n\u001b[1;32m     66\u001b[0m         w \u001b[38;5;241m=\u001b[39m \u001b[38;5;28minput\u001b[39m(\u001b[38;5;124m\"\u001b[39m\u001b[38;5;124m体重を小数点1位まで半角数字で入力してください（kg）>\u001b[39m\u001b[38;5;124m\"\u001b[39m)\n",
      "File \u001b[0;32m~/opt/anaconda3/lib/python3.9/site-packages/ipykernel/kernelbase.py:1177\u001b[0m, in \u001b[0;36mKernel.raw_input\u001b[0;34m(self, prompt)\u001b[0m\n\u001b[1;32m   1173\u001b[0m \u001b[38;5;28;01mif\u001b[39;00m \u001b[38;5;129;01mnot\u001b[39;00m \u001b[38;5;28mself\u001b[39m\u001b[38;5;241m.\u001b[39m_allow_stdin:\n\u001b[1;32m   1174\u001b[0m     \u001b[38;5;28;01mraise\u001b[39;00m StdinNotImplementedError(\n\u001b[1;32m   1175\u001b[0m         \u001b[38;5;124m\"\u001b[39m\u001b[38;5;124mraw_input was called, but this frontend does not support input requests.\u001b[39m\u001b[38;5;124m\"\u001b[39m\n\u001b[1;32m   1176\u001b[0m     )\n\u001b[0;32m-> 1177\u001b[0m \u001b[38;5;28;01mreturn\u001b[39;00m \u001b[38;5;28;43mself\u001b[39;49m\u001b[38;5;241;43m.\u001b[39;49m\u001b[43m_input_request\u001b[49m\u001b[43m(\u001b[49m\n\u001b[1;32m   1178\u001b[0m \u001b[43m    \u001b[49m\u001b[38;5;28;43mstr\u001b[39;49m\u001b[43m(\u001b[49m\u001b[43mprompt\u001b[49m\u001b[43m)\u001b[49m\u001b[43m,\u001b[49m\n\u001b[1;32m   1179\u001b[0m \u001b[43m    \u001b[49m\u001b[38;5;28;43mself\u001b[39;49m\u001b[38;5;241;43m.\u001b[39;49m\u001b[43m_parent_ident\u001b[49m\u001b[43m[\u001b[49m\u001b[38;5;124;43m\"\u001b[39;49m\u001b[38;5;124;43mshell\u001b[39;49m\u001b[38;5;124;43m\"\u001b[39;49m\u001b[43m]\u001b[49m\u001b[43m,\u001b[49m\n\u001b[1;32m   1180\u001b[0m \u001b[43m    \u001b[49m\u001b[38;5;28;43mself\u001b[39;49m\u001b[38;5;241;43m.\u001b[39;49m\u001b[43mget_parent\u001b[49m\u001b[43m(\u001b[49m\u001b[38;5;124;43m\"\u001b[39;49m\u001b[38;5;124;43mshell\u001b[39;49m\u001b[38;5;124;43m\"\u001b[39;49m\u001b[43m)\u001b[49m\u001b[43m,\u001b[49m\n\u001b[1;32m   1181\u001b[0m \u001b[43m    \u001b[49m\u001b[43mpassword\u001b[49m\u001b[38;5;241;43m=\u001b[39;49m\u001b[38;5;28;43;01mFalse\u001b[39;49;00m\u001b[43m,\u001b[49m\n\u001b[1;32m   1182\u001b[0m \u001b[43m\u001b[49m\u001b[43m)\u001b[49m\n",
      "File \u001b[0;32m~/opt/anaconda3/lib/python3.9/site-packages/ipykernel/kernelbase.py:1219\u001b[0m, in \u001b[0;36mKernel._input_request\u001b[0;34m(self, prompt, ident, parent, password)\u001b[0m\n\u001b[1;32m   1216\u001b[0m             \u001b[38;5;28;01mbreak\u001b[39;00m\n\u001b[1;32m   1217\u001b[0m \u001b[38;5;28;01mexcept\u001b[39;00m \u001b[38;5;167;01mKeyboardInterrupt\u001b[39;00m:\n\u001b[1;32m   1218\u001b[0m     \u001b[38;5;66;03m# re-raise KeyboardInterrupt, to truncate traceback\u001b[39;00m\n\u001b[0;32m-> 1219\u001b[0m     \u001b[38;5;28;01mraise\u001b[39;00m \u001b[38;5;167;01mKeyboardInterrupt\u001b[39;00m(\u001b[38;5;124m\"\u001b[39m\u001b[38;5;124mInterrupted by user\u001b[39m\u001b[38;5;124m\"\u001b[39m) \u001b[38;5;28;01mfrom\u001b[39;00m \u001b[38;5;28mNone\u001b[39m\n\u001b[1;32m   1220\u001b[0m \u001b[38;5;28;01mexcept\u001b[39;00m \u001b[38;5;167;01mException\u001b[39;00m:\n\u001b[1;32m   1221\u001b[0m     \u001b[38;5;28mself\u001b[39m\u001b[38;5;241m.\u001b[39mlog\u001b[38;5;241m.\u001b[39mwarning(\u001b[38;5;124m\"\u001b[39m\u001b[38;5;124mInvalid Message:\u001b[39m\u001b[38;5;124m\"\u001b[39m, exc_info\u001b[38;5;241m=\u001b[39m\u001b[38;5;28;01mTrue\u001b[39;00m)\n",
      "\u001b[0;31mKeyboardInterrupt\u001b[0m: Interrupted by user"
     ]
    }
   ],
   "source": [
    "def BMI_checker(t,w):\n",
    "    your_bmi = float(w / ((t/100)**2))\n",
    "    best_weight = float(22 *((t/100)**2))\n",
    "    print(f\"あなたの身長は{t:.1f}cm\")\n",
    "    print(f\"あなたの体重は{w:.1f}kg\")\n",
    "    \n",
    "    \n",
    "    if your_bmi < 16.00:\n",
    "        print(f\"あなたのBMIは={your_bmi:.2f}です\")\n",
    "        print(\"あなたは、重度の痩せに分類されます\")\n",
    "        print(f\"標準体重まで体重をあと{best_weight-w:.1f}kg増やした方が良いです\")\n",
    "        print()\n",
    "    elif 16.00 <= your_bmi < 17.00:\n",
    "        print(f\"あなたのBMIは={your_bmi:.2f}です\")\n",
    "        print(\"あなたは、中度の痩せに分類されます\")\n",
    "        print(f\"標準体重まで体重をあと{best_weight-w:.1f}kg増やした方が良いです\")\n",
    "        print()\n",
    "    elif 17.00 <= your_bmi < 18.50:\n",
    "        print(f\"あなたのBMIは={your_bmi:.2f}です\")\n",
    "        print(\"あなたは、軽度の痩せに分類されます\")\n",
    "        print(f\"標準体重まで体重をあと{best_weight-w:.1f}kg増やした方が良いです\")\n",
    "        print()\n",
    "    elif 18.50 <= your_bmi < 22.00:\n",
    "        print(f\"あなたのBMIは={your_bmi:.2f}です\")\n",
    "        print(\"あなたは、普通体重に分類されます\")\n",
    "        print(f\"あと{best_weight-w:.1f}kg増やすともっとも病気にかかりにくいとされている標準体重になります\")\n",
    "        print()\n",
    "    elif 22.00 <= your_bmi < 25.00:\n",
    "        print(f\"あなたのBMIは={your_bmi:.2f}です\")\n",
    "        print(\"あなたは、普通体重に分類されます\")\n",
    "        print(f\"あと{best_weight-w:.1f}kg減らすともっとも病気にかかりにくいとされている標準体重になります\")\n",
    "        print()\n",
    "    elif 25.00 <= your_bmi < 30.00:\n",
    "        print(f\"あなたのBMIは={your_bmi:.2f}です\")\n",
    "        print(\"あなたは、肥満(1度)肥満予備軍に分類されます\")\n",
    "        print(f\"標準体重まで体重をあと{best_weight-w:.1f}kg減らした方が良いです\")\n",
    "        print()\n",
    "    elif 30.00 <= your_bmi < 35.00:\n",
    "        print(f\"あなたのBMIは={your_bmi:.2f}です\")\n",
    "        print(\"あなたは、肥満(2度)に分類されます\")\n",
    "        print(f\"標準体重まで体重をあと{best_weight-w:.1f}kg減らした方が良いです\")\n",
    "        print()\n",
    "    elif 35.00 <= your_bmi < 40.00:\n",
    "        print(f\"あなたのBMIは={your_bmi:.2f}です\")\n",
    "        print(\"あなたは、肥満(3度)に分類されます\")\n",
    "        print(f\"標準体重まで体重をあと{best_weight-w:.1f}kg減らした方が良いです\")\n",
    "        print()\n",
    "    elif 40.00 <= your_bmi:\n",
    "        print(f\"あなたのBMIは={your_bmi:.2f}です\")\n",
    "        print(\"あなたは、肥満(4度)に分類されます\")\n",
    "        print(f\"標準体重まで体重をあと{best_weight-w:.1f}kg減らした方が良いです\\n\")\n",
    "        print()\n",
    "    \n",
    "t = 0\n",
    "w = 0\n",
    "while True:\n",
    "    print(\"あなたのBMIをチェックしてみましょう\")\n",
    "    print(\"WHOの国際的な基準によると、BMI25以上が過体重、30以上が肥満です。\\\n",
    "しかし、日本人の場合、BMI25以下であっても2型糖尿病や循環器の病気の発生リスクが高いとされています。\")\n",
    "    print(\"日本ではWHOの基準によらず、BMI25以上を肥満とし、\\\n",
    "もっとも病気にかかりにくい標準体重をBMI22とする、\\\n",
    "日本肥満学会による判定基準が使われています。\\n\")\n",
    "    print(\"次の方どうぞ\"+\"=\"*30)\n",
    "    t = input(\"身長を小数点1位まで半角数字で入力してください（cm）>\")\n",
    "    if type(t) in (int,float):\n",
    "        w = input(\"体重を小数点1位まで半角数字で入力してください（kg）>\")174.98\n",
    "        if type(w) in (int,float):\n",
    "            BMI_checker(t,w)\n",
    "    elif type(t) not in (int,float):\n",
    "        t = input(\"身長を小数点1位まで半角数字で入力してください（cm）>\")\n",
    "   \n",
    "    \n",
    "        "
   ]
  },
  {
   "cell_type": "code",
   "execution_count": null,
   "id": "dbb3fc52-a26d-4a4e-a64a-9aeb3d23d6ec",
   "metadata": {},
   "outputs": [],
   "source": []
  },
  {
   "cell_type": "code",
   "execution_count": null,
   "id": "400d2208-b247-4fd4-ad37-f13592122429",
   "metadata": {},
   "outputs": [],
   "source": []
  }
 ],
 "metadata": {
  "kernelspec": {
   "display_name": "Python 3 (ipykernel)",
   "language": "python",
   "name": "python3"
  },
  "language_info": {
   "codemirror_mode": {
    "name": "ipython",
    "version": 3
   },
   "file_extension": ".py",
   "mimetype": "text/x-python",
   "name": "python",
   "nbconvert_exporter": "python",
   "pygments_lexer": "ipython3",
   "version": "3.9.13"
  }
 },
 "nbformat": 4,
 "nbformat_minor": 5
}
