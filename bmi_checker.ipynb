{
 "cells": [
  {
   "cell_type": "code",
   "execution_count": 2,
   "id": "aecd67e4-a49e-42f1-95f5-7c3cb2d36ef8",
   "metadata": {
    "tags": []
   },
   "outputs": [
    {
     "name": "stdout",
     "output_type": "stream",
     "text": [
      "あなたのBMIをチェックしてみましょう\n",
      "WHOの国際的な基準によると、BMI25以上が過体重、30以上が肥満です。しかし、日本人の場合、BMI25以下であっても2型糖尿病や循環器の病気の発生リスクが高いとされています。\n",
      "日本ではWHOの基準によらず、BMI25以上を肥満とし、もっとも病気にかかりにくい標準体重をBMI22とする、日本肥満学会による判定基準が使われています。\n",
      "\n",
      "次の方どうぞ==============================\n"
     ]
    },
    {
     "name": "stdin",
     "output_type": "stream",
     "text": [
      "身長を小数点1位まで入力してください（cm）> 173.5\n"
     ]
    },
    {
     "name": "stdout",
     "output_type": "stream",
     "text": [
      "半角数字を入力して下さい\n"
     ]
    },
    {
     "name": "stdin",
     "output_type": "stream",
     "text": [
      "体重を小数点1位まで入力してください（kg）> 54.5\n"
     ]
    },
    {
     "name": "stdout",
     "output_type": "stream",
     "text": [
      "半角数字を入力して下さい\n"
     ]
    },
    {
     "ename": "TypeError",
     "evalue": "unsupported operand type(s) for /: 'str' and 'int'",
     "output_type": "error",
     "traceback": [
      "\u001b[0;31m---------------------------------------------------------------------------\u001b[0m",
      "\u001b[0;31mTypeError\u001b[0m                                 Traceback (most recent call last)",
      "Input \u001b[0;32mIn [2]\u001b[0m, in \u001b[0;36m<cell line: 55>\u001b[0;34m()\u001b[0m\n\u001b[1;32m     68\u001b[0m     \u001b[38;5;28mprint\u001b[39m(\u001b[38;5;124m\"\u001b[39m\u001b[38;5;124m半角数字を入力して下さい\u001b[39m\u001b[38;5;124m\"\u001b[39m)\n\u001b[1;32m     69\u001b[0m \u001b[38;5;28;01mif\u001b[39;00m \u001b[38;5;28mtype\u001b[39m(t) \u001b[38;5;241m==\u001b[39m \u001b[38;5;28mint\u001b[39m \u001b[38;5;129;01mor\u001b[39;00m \u001b[38;5;28mfloat\u001b[39m:\n\u001b[0;32m---> 70\u001b[0m     \u001b[43mBMI_checker\u001b[49m\u001b[43m(\u001b[49m\u001b[43mt\u001b[49m\u001b[43m,\u001b[49m\u001b[43mw\u001b[49m\u001b[43m)\u001b[49m\n",
      "Input \u001b[0;32mIn [2]\u001b[0m, in \u001b[0;36mBMI_checker\u001b[0;34m(t, w)\u001b[0m\n\u001b[1;32m      1\u001b[0m \u001b[38;5;28;01mdef\u001b[39;00m \u001b[38;5;21mBMI_checker\u001b[39m(t,w):\n\u001b[0;32m----> 2\u001b[0m     your_bmi \u001b[38;5;241m=\u001b[39m \u001b[38;5;28mfloat\u001b[39m(w \u001b[38;5;241m/\u001b[39m ((\u001b[43mt\u001b[49m\u001b[38;5;241;43m/\u001b[39;49m\u001b[38;5;241;43m100\u001b[39;49m)\u001b[38;5;241m*\u001b[39m\u001b[38;5;241m*\u001b[39m\u001b[38;5;241m2\u001b[39m))\n\u001b[1;32m      3\u001b[0m     best_weight \u001b[38;5;241m=\u001b[39m \u001b[38;5;28mfloat\u001b[39m(\u001b[38;5;241m22\u001b[39m \u001b[38;5;241m*\u001b[39m((t\u001b[38;5;241m/\u001b[39m\u001b[38;5;241m100\u001b[39m)\u001b[38;5;241m*\u001b[39m\u001b[38;5;241m*\u001b[39m\u001b[38;5;241m2\u001b[39m))\n\u001b[1;32m      4\u001b[0m     \u001b[38;5;28mprint\u001b[39m(\u001b[38;5;124mf\u001b[39m\u001b[38;5;124m\"\u001b[39m\u001b[38;5;124mあなたの身長は\u001b[39m\u001b[38;5;132;01m{\u001b[39;00mt\u001b[38;5;132;01m}\u001b[39;00m\u001b[38;5;124mcm\u001b[39m\u001b[38;5;124m\"\u001b[39m)\n",
      "\u001b[0;31mTypeError\u001b[0m: unsupported operand type(s) for /: 'str' and 'int'"
     ]
    }
   ],
   "source": [
    "def BMI_checker(t,w):\n",
    "    your_bmi = float(w / ((t/100)**2))\n",
    "    best_weight = float(22 *((t/100)**2))\n",
    "    print(f\"あなたの身長は{t}cm\")\n",
    "    print(f\"あなたの体重は{w}kg\")\n",
    "    \n",
    "    \n",
    "    if your_bmi < 16.00:\n",
    "        print(f\"あなたのBMIは={your_bmi:.2f}です\")\n",
    "        print(\"あなたは、重度の痩せに分類されます\")\n",
    "        print(f\"標準体重まで体重をあと{best_weight-w:.1f}kg増やした方が良いです\")\n",
    "        print()\n",
    "    elif 16.00 <= your_bmi < 17.00:\n",
    "        print(f\"あなたのBMIは={your_bmi:.2f}です\")\n",
    "        print(\"あなたは、中度の痩せに分類されます\")\n",
    "        print(f\"標準体重まで体重をあと{best_weight-w:.1f}kg増やした方が良いです\")\n",
    "        print()\n",
    "    elif 17.00 <= your_bmi < 18.50:\n",
    "        print(f\"あなたのBMIは={your_bmi:.2f}です\")\n",
    "        print(\"あなたは、軽度の痩せに分類されます\")\n",
    "        print(f\"標準体重まで体重をあと{best_weight-w:.1f}kg増やした方が良いです\")\n",
    "        print()\n",
    "    elif 18.50 <= your_bmi < 22.00:\n",
    "        print(f\"あなたのBMIは={your_bmi:.2f}です\")\n",
    "        print(\"あなたは、普通体重に分類されます\")\n",
    "        print(f\"あと{best_weight-w:.1f}kg増やすともっとも病気にかかりにくいとされている標準体重になります\")\n",
    "        print()\n",
    "    elif 22.00 <= your_bmi < 25.00:\n",
    "        print(f\"あなたのBMIは={your_bmi:.2f}です\")\n",
    "        print(\"あなたは、普通体重に分類されます\")\n",
    "        print(f\"あと{best_weight-w:.1f}kg減らすともっとも病気にかかりにくいとされている標準体重になります\")\n",
    "        print()\n",
    "    elif 25.00 <= your_bmi < 30.00:\n",
    "        print(f\"あなたのBMIは={your_bmi:.2f}です\")\n",
    "        print(\"あなたは、肥満(1度)肥満予備軍に分類されます\")\n",
    "        print(f\"標準体重まで体重をあと{best_weight-w:.1f}kg減らした方が良いです\")\n",
    "        print()\n",
    "    elif 30.00 <= your_bmi < 35.00:\n",
    "        print(f\"あなたのBMIは={your_bmi:.2f}です\")\n",
    "        print(\"あなたは、肥満(2度)に分類されます\")\n",
    "        print(f\"標準体重まで体重をあと{best_weight-w:.1f}kg減らした方が良いです\")\n",
    "        print()\n",
    "    elif 35.00 <= your_bmi < 40.00:\n",
    "        print(f\"あなたのBMIは={your_bmi:.2f}です\")\n",
    "        print(\"あなたは、肥満(3度)に分類されます\")\n",
    "        print(f\"標準体重まで体重をあと{best_weight-w:.1f}kg減らした方が良いです\")\n",
    "        print()\n",
    "    elif 40.00 <= your_bmi:\n",
    "        print(f\"あなたのBMIは={your_bmi:.2f}です\")\n",
    "        print(\"あなたは、肥満(4度)に分類されます\")\n",
    "        print(f\"標準体重まで体重をあと{best_weight-w:.1f}kg減らした方が良いです\\n\")\n",
    "        print()\n",
    "    \n",
    "while True:\n",
    "    print(\"あなたのBMIをチェックしてみましょう\")\n",
    "    print(\"WHOの国際的な基準によると、BMI25以上が過体重、30以上が肥満です。\\\n",
    "しかし、日本人の場合、BMI25以下であっても2型糖尿病や循環器の病気の発生リスクが高いとされています。\")\n",
    "    print(\"日本ではWHOの基準によらず、BMI25以上を肥満とし、\\\n",
    "もっとも病気にかかりにくい標準体重をBMI22とする、\\\n",
    "日本肥満学会による判定基準が使われています。\\n\")\n",
    "    print(\"次の方どうぞ\"+\"=\"*30)\n",
    "    t = input(\"身長を小数点1位まで入力してください（cm）>\")\n",
    "    if type(t) != str or float:\n",
    "        print(\"半角数字を入力して下さい\")\n",
    "    if type(t) == int or float:\n",
    "        w = input(\"体重を小数点1位まで入力してください（kg）>\")\n",
    "    if type(w) != int or float:\n",
    "        print(\"半角数字を入力して下さい\")\n",
    "    if type(t) == int or float:\n",
    "        BMI_checker(t,w)"
   ]
  },
  {
   "cell_type": "code",
   "execution_count": null,
   "id": "dbb3fc52-a26d-4a4e-a64a-9aeb3d23d6ec",
   "metadata": {},
   "outputs": [],
   "source": []
  }
 ],
 "metadata": {
  "kernelspec": {
   "display_name": "Python 3 (ipykernel)",
   "language": "python",
   "name": "python3"
  },
  "language_info": {
   "codemirror_mode": {
    "name": "ipython",
    "version": 3
   },
   "file_extension": ".py",
   "mimetype": "text/x-python",
   "name": "python",
   "nbconvert_exporter": "python",
   "pygments_lexer": "ipython3",
   "version": "3.9.13"
  }
 },
 "nbformat": 4,
 "nbformat_minor": 5
}
