{
 "cells": [
  {
   "cell_type": "markdown",
   "id": "bc3f3df8-9aee-470b-b729-e86eb184cabf",
   "metadata": {},
   "source": [
    "udemy_scraping_selenium_petit_ensyu3.ipynb\n",
    "からNative-Win11環境\n",
    "\n",
    "複数行コメントアウト\n",
    "ctrl+/\n",
    "2)ローカルに保存したHTMLファイルに対してBS4でScrapinしていく。（詳細ページに行く為のURLを取る"
   ]
  },
  {
   "cell_type": "code",
   "execution_count": 17,
   "id": "747b172a-d121-4c81-9dab-d78fd0925150",
   "metadata": {},
   "outputs": [],
   "source": [
    "from bs4 import BeautifulSoup\n",
    "from time import sleep,time\n",
    "import pandas as pd\n",
    "import requests"
   ]
  },
  {
   "cell_type": "code",
   "execution_count": 19,
   "id": "9e0958c3-7933-4dc8-8768-fc5fa6487c90",
   "metadata": {},
   "outputs": [
    {
     "name": "stdout",
     "output_type": "stream",
     "text": [
      "598\n"
     ]
    },
    {
     "ename": "NotImplementedError",
     "evalue": "':nth-of-time' pseudo-class is not implemented at this time",
     "output_type": "error",
     "traceback": [
      "\u001b[1;31m---------------------------------------------------------------------------\u001b[0m",
      "\u001b[1;31mNotImplementedError\u001b[0m                       Traceback (most recent call last)",
      "Input \u001b[1;32mIn [19]\u001b[0m, in \u001b[0;36m<cell line: 8>\u001b[1;34m()\u001b[0m\n\u001b[0;32m     14\u001b[0m address \u001b[38;5;241m=\u001b[39m detail_soup\u001b[38;5;241m.\u001b[39mselect_one(\u001b[38;5;124m\"\u001b[39m\u001b[38;5;124mtd:-soup-contains(\u001b[39m\u001b[38;5;124m'\u001b[39m\u001b[38;5;124m地図はこちら\u001b[39m\u001b[38;5;124m'\u001b[39m\u001b[38;5;124m) > p\u001b[39m\u001b[38;5;124m\"\u001b[39m)\u001b[38;5;241m.\u001b[39mtext\n\u001b[0;32m     15\u001b[0m phone \u001b[38;5;241m=\u001b[39m detail_soup\u001b[38;5;241m.\u001b[39mselect_one(\u001b[38;5;124m\"\u001b[39m\u001b[38;5;124mdiv.telNo>p>strong>a\u001b[39m\u001b[38;5;124m\"\u001b[39m)\u001b[38;5;241m.\u001b[39mtext\n\u001b[1;32m---> 16\u001b[0m person_in_charge \u001b[38;5;241m=\u001b[39m \u001b[43mdetail_soup\u001b[49m\u001b[38;5;241;43m.\u001b[39;49m\u001b[43mselect_one\u001b[49m\u001b[43m(\u001b[49m\u001b[38;5;124;43m\"\u001b[39;49m\u001b[38;5;124;43mdiv.telNo>p:nth-of-time(2)\u001b[39;49m\u001b[38;5;124;43m\"\u001b[39;49m\u001b[43m)\u001b[49m\u001b[38;5;241m.\u001b[39mtext\n\u001b[0;32m     17\u001b[0m \u001b[38;5;28mprint\u001b[39m(company_name,address,phone,person_in_charge)\n",
      "File \u001b[1;32m~\\anaconda3\\lib\\site-packages\\bs4\\element.py:1938\u001b[0m, in \u001b[0;36mTag.select_one\u001b[1;34m(self, selector, namespaces, **kwargs)\u001b[0m\n\u001b[0;32m   1922\u001b[0m \u001b[38;5;28;01mdef\u001b[39;00m \u001b[38;5;21mselect_one\u001b[39m(\u001b[38;5;28mself\u001b[39m, selector, namespaces\u001b[38;5;241m=\u001b[39m\u001b[38;5;28;01mNone\u001b[39;00m, \u001b[38;5;241m*\u001b[39m\u001b[38;5;241m*\u001b[39mkwargs):\n\u001b[0;32m   1923\u001b[0m     \u001b[38;5;124;03m\"\"\"Perform a CSS selection operation on the current element.\u001b[39;00m\n\u001b[0;32m   1924\u001b[0m \n\u001b[0;32m   1925\u001b[0m \u001b[38;5;124;03m    :param selector: A CSS selector.\u001b[39;00m\n\u001b[1;32m   (...)\u001b[0m\n\u001b[0;32m   1936\u001b[0m \u001b[38;5;124;03m    :rtype: bs4.element.Tag\u001b[39;00m\n\u001b[0;32m   1937\u001b[0m \u001b[38;5;124;03m    \"\"\"\u001b[39;00m\n\u001b[1;32m-> 1938\u001b[0m     value \u001b[38;5;241m=\u001b[39m \u001b[38;5;28mself\u001b[39m\u001b[38;5;241m.\u001b[39mselect(selector, namespaces, \u001b[38;5;241m1\u001b[39m, \u001b[38;5;241m*\u001b[39m\u001b[38;5;241m*\u001b[39mkwargs)\n\u001b[0;32m   1939\u001b[0m     \u001b[38;5;28;01mif\u001b[39;00m value:\n\u001b[0;32m   1940\u001b[0m         \u001b[38;5;28;01mreturn\u001b[39;00m value[\u001b[38;5;241m0\u001b[39m]\n",
      "File \u001b[1;32m~\\anaconda3\\lib\\site-packages\\bs4\\element.py:1973\u001b[0m, in \u001b[0;36mTag.select\u001b[1;34m(self, selector, namespaces, limit, **kwargs)\u001b[0m\n\u001b[0;32m   1968\u001b[0m \u001b[38;5;28;01mif\u001b[39;00m soupsieve \u001b[38;5;129;01mis\u001b[39;00m \u001b[38;5;28;01mNone\u001b[39;00m:\n\u001b[0;32m   1969\u001b[0m     \u001b[38;5;28;01mraise\u001b[39;00m \u001b[38;5;167;01mNotImplementedError\u001b[39;00m(\n\u001b[0;32m   1970\u001b[0m         \u001b[38;5;124m\"\u001b[39m\u001b[38;5;124mCannot execute CSS selectors because the soupsieve package is not installed.\u001b[39m\u001b[38;5;124m\"\u001b[39m\n\u001b[0;32m   1971\u001b[0m     )\n\u001b[1;32m-> 1973\u001b[0m results \u001b[38;5;241m=\u001b[39m soupsieve\u001b[38;5;241m.\u001b[39mselect(selector, \u001b[38;5;28mself\u001b[39m, namespaces, limit, \u001b[38;5;241m*\u001b[39m\u001b[38;5;241m*\u001b[39mkwargs)\n\u001b[0;32m   1975\u001b[0m \u001b[38;5;66;03m# We do this because it's more consistent and because\u001b[39;00m\n\u001b[0;32m   1976\u001b[0m \u001b[38;5;66;03m# ResultSet.__getattr__ has a helpful error message.\u001b[39;00m\n\u001b[0;32m   1977\u001b[0m \u001b[38;5;28;01mreturn\u001b[39;00m ResultSet(\u001b[38;5;28;01mNone\u001b[39;00m, results)\n",
      "File \u001b[1;32m~\\anaconda3\\lib\\site-packages\\soupsieve\\__init__.py:144\u001b[0m, in \u001b[0;36mselect\u001b[1;34m(select, tag, namespaces, limit, flags, custom, **kwargs)\u001b[0m\n\u001b[0;32m    132\u001b[0m \u001b[38;5;28;01mdef\u001b[39;00m \u001b[38;5;21mselect\u001b[39m(\n\u001b[0;32m    133\u001b[0m     select: \u001b[38;5;28mstr\u001b[39m,\n\u001b[0;32m    134\u001b[0m     tag: \u001b[38;5;124m'\u001b[39m\u001b[38;5;124mbs4.Tag\u001b[39m\u001b[38;5;124m'\u001b[39m,\n\u001b[1;32m   (...)\u001b[0m\n\u001b[0;32m    140\u001b[0m     \u001b[38;5;241m*\u001b[39m\u001b[38;5;241m*\u001b[39mkwargs: Any\n\u001b[0;32m    141\u001b[0m ) \u001b[38;5;241m-\u001b[39m\u001b[38;5;241m>\u001b[39m List[\u001b[38;5;124m'\u001b[39m\u001b[38;5;124mbs4.Tag\u001b[39m\u001b[38;5;124m'\u001b[39m]:\n\u001b[0;32m    142\u001b[0m     \u001b[38;5;124;03m\"\"\"Select the specified tags.\"\"\"\u001b[39;00m\n\u001b[1;32m--> 144\u001b[0m     \u001b[38;5;28;01mreturn\u001b[39;00m \u001b[38;5;28mcompile\u001b[39m(select, namespaces, flags, \u001b[38;5;241m*\u001b[39m\u001b[38;5;241m*\u001b[39mkwargs)\u001b[38;5;241m.\u001b[39mselect(tag, limit)\n",
      "File \u001b[1;32m~\\anaconda3\\lib\\site-packages\\soupsieve\\__init__.py:67\u001b[0m, in \u001b[0;36mcompile\u001b[1;34m(pattern, namespaces, flags, custom, **kwargs)\u001b[0m\n\u001b[0;32m     64\u001b[0m         \u001b[38;5;28;01mraise\u001b[39;00m \u001b[38;5;167;01mValueError\u001b[39;00m(\u001b[38;5;124m\"\u001b[39m\u001b[38;5;124mCannot process \u001b[39m\u001b[38;5;124m'\u001b[39m\u001b[38;5;124mcustom\u001b[39m\u001b[38;5;124m'\u001b[39m\u001b[38;5;124m argument on a compiled selector list\u001b[39m\u001b[38;5;124m\"\u001b[39m)\n\u001b[0;32m     65\u001b[0m     \u001b[38;5;28;01mreturn\u001b[39;00m pattern\n\u001b[1;32m---> 67\u001b[0m \u001b[38;5;28;01mreturn\u001b[39;00m \u001b[43mcp\u001b[49m\u001b[38;5;241;43m.\u001b[39;49m\u001b[43m_cached_css_compile\u001b[49m\u001b[43m(\u001b[49m\u001b[43mpattern\u001b[49m\u001b[43m,\u001b[49m\u001b[43m \u001b[49m\u001b[43mns\u001b[49m\u001b[43m,\u001b[49m\u001b[43m \u001b[49m\u001b[43mcs\u001b[49m\u001b[43m,\u001b[49m\u001b[43m \u001b[49m\u001b[43mflags\u001b[49m\u001b[43m)\u001b[49m\n",
      "File \u001b[1;32m~\\anaconda3\\lib\\site-packages\\soupsieve\\css_parser.py:218\u001b[0m, in \u001b[0;36m_cached_css_compile\u001b[1;34m(pattern, namespaces, custom, flags)\u001b[0m\n\u001b[0;32m    213\u001b[0m \u001b[38;5;124;03m\"\"\"Cached CSS compile.\"\"\"\u001b[39;00m\n\u001b[0;32m    215\u001b[0m custom_selectors \u001b[38;5;241m=\u001b[39m process_custom(custom)\n\u001b[0;32m    216\u001b[0m \u001b[38;5;28;01mreturn\u001b[39;00m cm\u001b[38;5;241m.\u001b[39mSoupSieve(\n\u001b[0;32m    217\u001b[0m     pattern,\n\u001b[1;32m--> 218\u001b[0m     \u001b[43mCSSParser\u001b[49m\u001b[43m(\u001b[49m\n\u001b[0;32m    219\u001b[0m \u001b[43m        \u001b[49m\u001b[43mpattern\u001b[49m\u001b[43m,\u001b[49m\n\u001b[0;32m    220\u001b[0m \u001b[43m        \u001b[49m\u001b[43mcustom\u001b[49m\u001b[38;5;241;43m=\u001b[39;49m\u001b[43mcustom_selectors\u001b[49m\u001b[43m,\u001b[49m\n\u001b[0;32m    221\u001b[0m \u001b[43m        \u001b[49m\u001b[43mflags\u001b[49m\u001b[38;5;241;43m=\u001b[39;49m\u001b[43mflags\u001b[49m\n\u001b[0;32m    222\u001b[0m \u001b[43m    \u001b[49m\u001b[43m)\u001b[49m\u001b[38;5;241;43m.\u001b[39;49m\u001b[43mprocess_selectors\u001b[49m\u001b[43m(\u001b[49m\u001b[43m)\u001b[49m,\n\u001b[0;32m    223\u001b[0m     namespaces,\n\u001b[0;32m    224\u001b[0m     custom,\n\u001b[0;32m    225\u001b[0m     flags\n\u001b[0;32m    226\u001b[0m )\n",
      "File \u001b[1;32m~\\anaconda3\\lib\\site-packages\\soupsieve\\css_parser.py:1159\u001b[0m, in \u001b[0;36mCSSParser.process_selectors\u001b[1;34m(self, index, flags)\u001b[0m\n\u001b[0;32m   1156\u001b[0m \u001b[38;5;28;01mdef\u001b[39;00m \u001b[38;5;21mprocess_selectors\u001b[39m(\u001b[38;5;28mself\u001b[39m, index: \u001b[38;5;28mint\u001b[39m \u001b[38;5;241m=\u001b[39m \u001b[38;5;241m0\u001b[39m, flags: \u001b[38;5;28mint\u001b[39m \u001b[38;5;241m=\u001b[39m \u001b[38;5;241m0\u001b[39m) \u001b[38;5;241m-\u001b[39m\u001b[38;5;241m>\u001b[39m ct\u001b[38;5;241m.\u001b[39mSelectorList:\n\u001b[0;32m   1157\u001b[0m     \u001b[38;5;124;03m\"\"\"Process selectors.\"\"\"\u001b[39;00m\n\u001b[1;32m-> 1159\u001b[0m     \u001b[38;5;28;01mreturn\u001b[39;00m \u001b[38;5;28;43mself\u001b[39;49m\u001b[38;5;241;43m.\u001b[39;49m\u001b[43mparse_selectors\u001b[49m\u001b[43m(\u001b[49m\u001b[38;5;28;43mself\u001b[39;49m\u001b[38;5;241;43m.\u001b[39;49m\u001b[43mselector_iter\u001b[49m\u001b[43m(\u001b[49m\u001b[38;5;28;43mself\u001b[39;49m\u001b[38;5;241;43m.\u001b[39;49m\u001b[43mpattern\u001b[49m\u001b[43m)\u001b[49m\u001b[43m,\u001b[49m\u001b[43m \u001b[49m\u001b[43mindex\u001b[49m\u001b[43m,\u001b[49m\u001b[43m \u001b[49m\u001b[43mflags\u001b[49m\u001b[43m)\u001b[49m\n",
      "File \u001b[1;32m~\\anaconda3\\lib\\site-packages\\soupsieve\\css_parser.py:993\u001b[0m, in \u001b[0;36mCSSParser.parse_selectors\u001b[1;34m(self, iselector, index, flags)\u001b[0m\n\u001b[0;32m    991\u001b[0m     has_selector \u001b[38;5;241m=\u001b[39m \u001b[38;5;28mself\u001b[39m\u001b[38;5;241m.\u001b[39mparse_pseudo_class_custom(sel, m, has_selector)\n\u001b[0;32m    992\u001b[0m \u001b[38;5;28;01melif\u001b[39;00m key \u001b[38;5;241m==\u001b[39m \u001b[38;5;124m'\u001b[39m\u001b[38;5;124mpseudo_class\u001b[39m\u001b[38;5;124m'\u001b[39m:\n\u001b[1;32m--> 993\u001b[0m     has_selector, is_html \u001b[38;5;241m=\u001b[39m \u001b[38;5;28;43mself\u001b[39;49m\u001b[38;5;241;43m.\u001b[39;49m\u001b[43mparse_pseudo_class\u001b[49m\u001b[43m(\u001b[49m\u001b[43msel\u001b[49m\u001b[43m,\u001b[49m\u001b[43m \u001b[49m\u001b[43mm\u001b[49m\u001b[43m,\u001b[49m\u001b[43m \u001b[49m\u001b[43mhas_selector\u001b[49m\u001b[43m,\u001b[49m\u001b[43m \u001b[49m\u001b[43miselector\u001b[49m\u001b[43m,\u001b[49m\u001b[43m \u001b[49m\u001b[43mis_html\u001b[49m\u001b[43m)\u001b[49m\n\u001b[0;32m    994\u001b[0m \u001b[38;5;28;01melif\u001b[39;00m key \u001b[38;5;241m==\u001b[39m \u001b[38;5;124m'\u001b[39m\u001b[38;5;124mpseudo_element\u001b[39m\u001b[38;5;124m'\u001b[39m:\n\u001b[0;32m    995\u001b[0m     \u001b[38;5;28;01mraise\u001b[39;00m \u001b[38;5;167;01mNotImplementedError\u001b[39;00m(\u001b[38;5;124m\"\u001b[39m\u001b[38;5;124mPseudo-element found at position \u001b[39m\u001b[38;5;132;01m{}\u001b[39;00m\u001b[38;5;124m\"\u001b[39m\u001b[38;5;241m.\u001b[39mformat(m\u001b[38;5;241m.\u001b[39mstart(\u001b[38;5;241m0\u001b[39m)))\n",
      "File \u001b[1;32m~\\anaconda3\\lib\\site-packages\\soupsieve\\css_parser.py:670\u001b[0m, in \u001b[0;36mCSSParser.parse_pseudo_class\u001b[1;34m(self, sel, m, has_selector, iselector, is_html)\u001b[0m\n\u001b[0;32m    664\u001b[0m     \u001b[38;5;28;01mraise\u001b[39;00m SelectorSyntaxError(\n\u001b[0;32m    665\u001b[0m         \u001b[38;5;124m\"\u001b[39m\u001b[38;5;124mInvalid syntax for pseudo class \u001b[39m\u001b[38;5;124m'\u001b[39m\u001b[38;5;132;01m{}\u001b[39;00m\u001b[38;5;124m'\u001b[39m\u001b[38;5;124m\"\u001b[39m\u001b[38;5;241m.\u001b[39mformat(pseudo),\n\u001b[0;32m    666\u001b[0m         \u001b[38;5;28mself\u001b[39m\u001b[38;5;241m.\u001b[39mpattern,\n\u001b[0;32m    667\u001b[0m         m\u001b[38;5;241m.\u001b[39mstart(\u001b[38;5;241m0\u001b[39m)\n\u001b[0;32m    668\u001b[0m     )\n\u001b[0;32m    669\u001b[0m \u001b[38;5;28;01melse\u001b[39;00m:\n\u001b[1;32m--> 670\u001b[0m     \u001b[38;5;28;01mraise\u001b[39;00m \u001b[38;5;167;01mNotImplementedError\u001b[39;00m(\n\u001b[0;32m    671\u001b[0m         \u001b[38;5;124m\"\u001b[39m\u001b[38;5;124m'\u001b[39m\u001b[38;5;132;01m{}\u001b[39;00m\u001b[38;5;124m'\u001b[39m\u001b[38;5;124m pseudo-class is not implemented at this time\u001b[39m\u001b[38;5;124m\"\u001b[39m\u001b[38;5;241m.\u001b[39mformat(pseudo)\n\u001b[0;32m    672\u001b[0m     )\n\u001b[0;32m    674\u001b[0m \u001b[38;5;28;01mreturn\u001b[39;00m has_selector, is_html\n",
      "\u001b[1;31mNotImplementedError\u001b[0m: ':nth-of-time' pseudo-class is not implemented at this time"
     ]
    }
   ],
   "source": [
    "with open(\"atsumaru_top_page.html\",\"r\",encoding='UTF-8') as f:\n",
    "    html = f.read()\n",
    "\n",
    "soup = BeautifulSoup(html,\"lxml\") \n",
    "base_url = \"https://atsumaru.jp\"\n",
    "a_tags = soup.select(\"h2.bl_card2_ttl > span > a\")\n",
    "print(len(a_tags))\n",
    "for a_tag in a_tags:\n",
    "    detail_url = base_url + a_tag.get(\"href\")\n",
    "    r = requests.get(detail_url)\n",
    "    r.raise_for_status() \n",
    "    detail_soup = BeautifulSoup(r.content,\"lxml\")\n",
    "    company_name = detail_soup.select_one(\"h2.bl_card2_ttl > span\").text\n",
    "    address = detail_soup.select_one(\"td:-soup-contains('地図はこちら') > p\").text\n",
    "    phone = detail_soup.select_one(\"div.telNo>p>strong>a\").text\n",
    "    person_in_charge = detail_soup.select_one(\"div.telNo>p:nth-of-time(2)\").text\n",
    "    print(company_name,address,phone,person_in_charge)\n"
   ]
  },
  {
   "cell_type": "code",
   "execution_count": null,
   "id": "d0374b7e-2de4-4d7a-8443-fc8251d1273a",
   "metadata": {},
   "outputs": [],
   "source": []
  }
 ],
 "metadata": {
  "kernelspec": {
   "display_name": "Python 3 (ipykernel)",
   "language": "python",
   "name": "python3"
  },
  "language_info": {
   "codemirror_mode": {
    "name": "ipython",
    "version": 3
   },
   "file_extension": ".py",
   "mimetype": "text/x-python",
   "name": "python",
   "nbconvert_exporter": "python",
   "pygments_lexer": "ipython3",
   "version": "3.9.12"
  }
 },
 "nbformat": 4,
 "nbformat_minor": 5
}
