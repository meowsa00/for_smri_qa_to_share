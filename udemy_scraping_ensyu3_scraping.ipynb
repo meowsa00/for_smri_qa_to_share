{
 "cells": [
  {
   "cell_type": "markdown",
   "id": "bc3f3df8-9aee-470b-b729-e86eb184cabf",
   "metadata": {},
   "source": [
    "udemy_scraping_selenium_petit_ensyu3.ipynb\n",
    "からNative-Win11環境\n",
    "\n",
    "https://atsumaru.jp/area/7/list?sagid=all\n",
    "\n",
    "\n",
    "複数行コメントアウト\n",
    "ctrl+/\n",
    "2)ローカルに保存したHTMLファイルに対してBS4でScrapinしていく。（詳細ページに行く為のURLを取る"
   ]
  },
  {
   "cell_type": "code",
   "execution_count": null,
   "id": "747b172a-d121-4c81-9dab-d78fd0925150",
   "metadata": {
    "tags": []
   },
   "outputs": [],
   "source": [
    "                                                                                                                                                                                                                                                                                                                                                                                                                                                                                                                                                                                                                                                                                                                                                                                                                                                                                                                                                                                                                                                                                                                                                                                                                                                                                                            from bs4 import BeautifulSoup\n",
    "from time import sleep,time\n",
    "import pandas as pd\n",
    "import requests"
   ]
  },
  {
   "cell_type": "code",
   "execution_count": 3,
   "id": "9e0958c3-7933-4dc8-8768-fc5fa6487c90",
   "metadata": {},
   "outputs": [
    {
     "name": "stdout",
     "output_type": "stream",
     "text": [
      "598\n"
     ]
    },
    {
     "ename": "NameError",
     "evalue": "name 'HTTPError' is not defined",
     "output_type": "error",
     "traceback": [
      "\u001b[1;31m---------------------------------------------------------------------------\u001b[0m",
      "\u001b[1;31mHTTPError\u001b[0m                                 Traceback (most recent call last)",
      "Input \u001b[1;32mIn [3]\u001b[0m, in \u001b[0;36m<cell line: 9>\u001b[1;34m()\u001b[0m\n\u001b[0;32m     12\u001b[0m     r \u001b[38;5;241m=\u001b[39m requests\u001b[38;5;241m.\u001b[39mget(detail_url)\n\u001b[1;32m---> 13\u001b[0m     \u001b[43mr\u001b[49m\u001b[38;5;241;43m.\u001b[39;49m\u001b[43mraise_for_status\u001b[49m\u001b[43m(\u001b[49m\u001b[43m)\u001b[49m \n\u001b[0;32m     14\u001b[0m \u001b[38;5;28;01mexcept\u001b[39;00m HTTPError \u001b[38;5;28;01mas\u001b[39;00m e:\n",
      "File \u001b[1;32m~\\anaconda3\\lib\\site-packages\\requests\\models.py:960\u001b[0m, in \u001b[0;36mResponse.raise_for_status\u001b[1;34m(self)\u001b[0m\n\u001b[0;32m    959\u001b[0m \u001b[38;5;28;01mif\u001b[39;00m http_error_msg:\n\u001b[1;32m--> 960\u001b[0m     \u001b[38;5;28;01mraise\u001b[39;00m HTTPError(http_error_msg, response\u001b[38;5;241m=\u001b[39m\u001b[38;5;28mself\u001b[39m)\n",
      "\u001b[1;31mHTTPError\u001b[0m: 404 Client Error: Not Found for url: https://atsumaru.jp/area/detail?kno=X107114&said=7&shn=980&vol=00001",
      "\nDuring handling of the above exception, another exception occurred:\n",
      "\u001b[1;31mNameError\u001b[0m                                 Traceback (most recent call last)",
      "Input \u001b[1;32mIn [3]\u001b[0m, in \u001b[0;36m<cell line: 9>\u001b[1;34m()\u001b[0m\n\u001b[0;32m     12\u001b[0m     r \u001b[38;5;241m=\u001b[39m requests\u001b[38;5;241m.\u001b[39mget(detail_url)\n\u001b[0;32m     13\u001b[0m     r\u001b[38;5;241m.\u001b[39mraise_for_status() \n\u001b[1;32m---> 14\u001b[0m \u001b[38;5;28;01mexcept\u001b[39;00m \u001b[43mHTTPError\u001b[49m \u001b[38;5;28;01mas\u001b[39;00m e:\n\u001b[0;32m     15\u001b[0m     \u001b[38;5;28;01mpass\u001b[39;00m\n\u001b[0;32m     16\u001b[0m     r \u001b[38;5;241m=\u001b[39m requests\u001b[38;5;241m.\u001b[39mget(detail_url)\n",
      "\u001b[1;31mNameError\u001b[0m: name 'HTTPError' is not defined"
     ]
    }
   ],
   "source": [
    "with open(\"atsumaru_top_page.html\",\"r\",encoding='UTF-8') as f:\n",
    "    html = f.read()\n",
    "\n",
    "soup = BeautifulSoup(html,\"lxml\") \n",
    "base_url = \"https://atsumaru.jp\"\n",
    "a_tags = soup.select(\"h2.bl_card2_ttl > span > a\")\n",
    "print(len(a_tags))\n",
    "d_list = []\n",
    "for i,a_tag in enumerate(a_tags):\n",
    "    detail_url = base_url + a_tag.get(\"href\")\n",
    "    try:\n",
    "        r = requests.get(detail_url)\n",
    "        r.raise_for_status() \n",
    "    except HTTPError as e:\n",
    "        pass\n",
    "        r = requests.get(detail_url)\n",
    "        r.raise_for_status() \n",
    "        detail_soup = BeautifulSoup(r.content,\"lxml\")\n",
    "        company_name = detail_soup.select_one(\"h2.bl_card2_ttl > span\").text\n",
    "        address = detail_soup.select_one(\"td:-soup-contains('地図はこちら') > p\").text\n",
    "        phone = detail_soup.select_one(\"div.telNo>p>strong>a\").text\n",
    "        person_in_charge = detail_soup.select_one(\"div.telNo>p:nth-of-type(2)\").text\n",
    "        d_list.append({\"Company_Name\":company_name,\"Address\":address,\"Phone\": phone,\"担当者\":person_in_charge})\n",
    "        print(\"=\"*30,i,\"=\"*30)\n",
    "        print(d_list[-1])"
   ]
  },
  {
   "cell_type": "code",
   "execution_count": null,
   "id": "d0374b7e-2de4-4d7a-8443-fc8251d1273a",
   "metadata": {},
   "outputs": [],
   "source": []
  }
 ],
 "metadata": {
  "kernelspec": {
   "display_name": "Python 3 (ipykernel)",
   "language": "python",
   "name": "python3"
  },
  "language_info": {
   "codemirror_mode": {
    "name": "ipython",
    "version": 3
   },
   "file_extension": ".py",
   "mimetype": "text/x-python",
   "name": "python",
   "nbconvert_exporter": "python",
   "pygments_lexer": "ipython3",
   "version": "3.9.12"
  }
 },
 "nbformat": 4,
 "nbformat_minor": 5
}
