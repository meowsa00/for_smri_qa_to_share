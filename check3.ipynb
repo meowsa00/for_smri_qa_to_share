{
 "cells": [
  {
   "cell_type": "code",
   "execution_count": 2,
   "id": "2eeb225f-a916-462b-b6e2-aa0e4a90269f",
   "metadata": {},
   "outputs": [],
   "source": [
    "import requests\n",
    "import pandas as pd\n",
    "from bs4 import BeautifulSoup\n",
    "from time import sleep"
   ]
  },
  {
   "cell_type": "code",
   "execution_count": 3,
   "id": "733657fa-3b55-4d6a-b3fb-9eb337966fdc",
   "metadata": {},
   "outputs": [
    {
     "name": "stdout",
     "output_type": "stream",
     "text": [
      "<dl class=\"spec\"><br/>\n",
      "<dt>Side A</dt><dd><a href=\"&lt;br /&gt;\n",
      "http://oldies.heteml.jp/sound_date/60%27s/20140524/DR0000_0375.mp3&lt;br /&gt;\n",
      "\" target=\"blank\"><br/>\n",
      " Linval Spencer / Don't Believe<br/>\n",
      "<dd><a href=\"&lt;br /&gt;\n",
      "http://oldies.heteml.jp/sound_date/60%27s/20140524/DR0000_0381.mp3&lt;br /&gt;\n",
      "\" target=\"blank\"><br/>\n",
      "Linval Spencer / I Have Fail<br/>\n",
      "</a><strong>[♪]</strong><br/>\n",
      "</dd><dt><br/>\n",
      "レーベル</dt><dd><br/>\n",
      "C＆N ( JA )<br/>\n",
      "</dd><dt><br/>\n",
      "コンディション</dt><dd><br/>\n",
      "EX-<br/>\n",
      "</dd><dt><br/>\n",
      "コメント</dt><dd><br/>\n",
      "美品 !!<br/><br/>\n",
      "Side B : 盤の淵に凹凸がございます。<br/>\n",
      "</dd></a></dd></dl>\n"
     ]
    },
    {
     "ename": "AttributeError",
     "evalue": "'NoneType' object has no attribute 'text'",
     "output_type": "error",
     "traceback": [
      "\u001b[0;31m---------------------------------------------------------------------------\u001b[0m",
      "\u001b[0;31mAttributeError\u001b[0m                            Traceback (most recent call last)",
      "Input \u001b[0;32mIn [3]\u001b[0m, in \u001b[0;36m<cell line: 12>\u001b[0;34m()\u001b[0m\n\u001b[1;32m     24\u001b[0m b_side_performer \u001b[38;5;241m=\u001b[39m b_side_tune_text_l[\u001b[38;5;241m0\u001b[39m]\n\u001b[1;32m     25\u001b[0m b_side_tune_name \u001b[38;5;241m=\u001b[39m b_side_tune_text_l[\u001b[38;5;241m1\u001b[39m]\n\u001b[0;32m---> 27\u001b[0m label \u001b[38;5;241m=\u001b[39m\u001b[43msoup2\u001b[49m\u001b[38;5;241;43m.\u001b[39;49m\u001b[43mselect_one\u001b[49m\u001b[43m(\u001b[49m\u001b[38;5;124;43m\"\u001b[39;49m\u001b[38;5;124;43mdl.spec > dd > dd:nth-of-type(2)\u001b[39;49m\u001b[38;5;124;43m\"\u001b[39;49m\u001b[43m)\u001b[49m\u001b[38;5;241;43m.\u001b[39;49m\u001b[43mtext\u001b[49m\u001b[38;5;241m.\u001b[39mstrip()\n\u001b[1;32m     28\u001b[0m condition \u001b[38;5;241m=\u001b[39m soup2\u001b[38;5;241m.\u001b[39mselect_one(\u001b[38;5;124m\"\u001b[39m\u001b[38;5;124mdl.spec > dd > dd:nth-of-type(3)\u001b[39m\u001b[38;5;124m\"\u001b[39m)\u001b[38;5;241m.\u001b[39mtext\u001b[38;5;241m.\u001b[39mstrip()\n\u001b[1;32m     29\u001b[0m price \u001b[38;5;241m=\u001b[39m soup2\u001b[38;5;241m.\u001b[39mselect_one(\u001b[38;5;124m\"\u001b[39m\u001b[38;5;124mtd.sales > font \u001b[39m\u001b[38;5;124m\"\u001b[39m)\u001b[38;5;241m.\u001b[39mtext\n",
      "\u001b[0;31mAttributeError\u001b[0m: 'NoneType' object has no attribute 'text'"
     ]
    }
   ],
   "source": [
    "check_url = \"http://oldiesbutgoodies-records.com/?pid=75692641\"\n",
    "\n",
    "sleep(2)\n",
    "r2 = requests.get(check_url,timeout=1)\n",
    "r2.raise_for_status()\n",
    "soup2 = BeautifulSoup(r2.content,\"lxml\")\n",
    "tune_block = soup2.select_one(\"dl.spec\")\n",
    "print(tune_block)\n",
    "\n",
    "\n",
    "\n",
    "if tune_block != None:\n",
    "\n",
    "    a_side_tune_text =soup2.select_one(\"dl.spec > dd > a\").text\n",
    "    a_side_tune_text_l = a_side_tune_text.strip().split(\"/\")\n",
    "    a_side_performer = a_side_tune_text_l[0]\n",
    "    a_side_tune_name = a_side_tune_text_l[1]\n",
    "\n",
    "    if soup2.select_one(\"dl.spec > dd:nth-of-type(2) > a\") != None:\n",
    "        b_side_tune_text =soup2.select_one(\"dl.spec > dd:nth-of-type(2) > a\").text \n",
    "    else:\n",
    "        b_side_tune_text = soup2.select_one(\"dl.spec > dd > a > dd > a\").text\n",
    "    b_side_tune_text_l = b_side_tune_text.strip().split(\"/\")\n",
    "    b_side_performer = b_side_tune_text_l[0]\n",
    "    b_side_tune_name = b_side_tune_text_l[1]\n",
    "\n",
    "    label =soup2.select_one(\"dl.spec > dd > dd:nth-of-type(2)\").text.strip()\n",
    "    condition = soup2.select_one(\"dl.spec > dd > dd:nth-of-type(3)\").text.strip()\n",
    "    price = soup2.select_one(\"td.sales > font \").text\n",
    "    price = int(price.strip().replace(\"円(税込)\",\"\").replace(\",\",\"\")) if \"円(税込)\" in price else price\n",
    "    comments = soup2.select_one(\"dl.spec > dd > dd:nth-of-type(4)\").text.strip()\n",
    "    d_list.append({\n",
    "        \"Label\":label,\"A-Side_Tune\":a_side_tune_name,\"A-Side_Performer\":a_side_performer,\n",
    "        \"B-Side_Tune\":b_side_tune_name,\"B-Side_Performer\":b_side_performer,\"Condition\":condition,\n",
    "        \"Price\":price,\"Comments\":comments\n",
    "    })\n",
    "    print(a_side_tune_name,a_side_performer,b_side_tune_name,b_side_performer,label,condition,price)\n",
    "\n",
    "    print(d_list[-1])\n",
    "    print()\n"
   ]
  },
  {
   "cell_type": "code",
   "execution_count": null,
   "id": "47800754-9bba-4bf6-98f0-0ce5c229b814",
   "metadata": {},
   "outputs": [],
   "source": []
  }
 ],
 "metadata": {
  "kernelspec": {
   "display_name": "Python 3 (ipykernel)",
   "language": "python",
   "name": "python3"
  },
  "language_info": {
   "codemirror_mode": {
    "name": "ipython",
    "version": 3
   },
   "file_extension": ".py",
   "mimetype": "text/x-python",
   "name": "python",
   "nbconvert_exporter": "python",
   "pygments_lexer": "ipython3",
   "version": "3.9.12"
  }
 },
 "nbformat": 4,
 "nbformat_minor": 5
}
