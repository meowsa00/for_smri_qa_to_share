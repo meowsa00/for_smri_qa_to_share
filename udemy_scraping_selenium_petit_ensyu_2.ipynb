{
 "cells": [
  {
   "cell_type": "code",
   "execution_count": 3,
   "id": "dc8ffc13-8b9d-4177-87b3-434be8a0207a",
   "metadata": {},
   "outputs": [],
   "source": [
    "from time import sleep\n",
    "from selenium import webdriver\n",
    "#import chromedriver_binary\n",
    "from selenium.webdriver.common.keys import Keys\n"
   ]
  },
  {
   "cell_type": "code",
   "execution_count": 4,
   "id": "6ccfdba8-e4a6-44a5-864d-d4034b319844",
   "metadata": {},
   "outputs": [
    {
     "name": "stderr",
     "output_type": "stream",
     "text": [
      "/tmp/ipykernel_14985/2992388996.py:6: DeprecationWarning: executable_path has been deprecated, please pass in a Service object\n",
      "  driver = webdriver.Chrome(executable_path = \"/opt/chrome/chromedriver\",options = options)\n"
     ]
    },
    {
     "ename": "WebDriverException",
     "evalue": "Message: unknown error: session deleted because of page crash\nfrom unknown error: cannot determine loading status\nfrom tab crashed\n  (Session info: headless chrome=103.0.5060.134)\nStacktrace:\n#0 0x5589cea33cd3 <unknown>\n#1 0x5589ce83b7ff <unknown>\n#2 0x5589ce82892d <unknown>\n#3 0x5589ce828345 <unknown>\n#4 0x5589ce827795 <unknown>\n#5 0x5589ce82645f <unknown>\n#6 0x5589ce826a1c <unknown>\n#7 0x5589ce833e1f <unknown>\n#8 0x5589ce834982 <unknown>\n#9 0x5589ce842f0d <unknown>\n#10 0x5589ce846e3a <unknown>\n#11 0x5589ce826e46 <unknown>\n#12 0x5589ce842ab1 <unknown>\n#13 0x5589ce8a42ac <unknown>\n#14 0x5589ce890aa3 <unknown>\n#15 0x5589ce8663fa <unknown>\n#16 0x5589ce867555 <unknown>\n#17 0x5589cea7b2bd <unknown>\n#18 0x5589cea7f418 <unknown>\n#19 0x5589cea6536e <unknown>\n#20 0x5589cea80078 <unknown>\n#21 0x5589cea59bb0 <unknown>\n#22 0x5589cea9cd58 <unknown>\n#23 0x5589cea9ced8 <unknown>\n#24 0x5589ceab6cfd <unknown>\n#25 0x7fb1b80c6b43 <unknown>\n",
     "output_type": "error",
     "traceback": [
      "\u001b[0;31m---------------------------------------------------------------------------\u001b[0m",
      "\u001b[0;31mWebDriverException\u001b[0m                        Traceback (most recent call last)",
      "Input \u001b[0;32mIn [4]\u001b[0m, in \u001b[0;36m<cell line: 8>\u001b[0;34m()\u001b[0m\n\u001b[1;32m      6\u001b[0m driver \u001b[38;5;241m=\u001b[39m webdriver\u001b[38;5;241m.\u001b[39mChrome(executable_path \u001b[38;5;241m=\u001b[39m \u001b[38;5;124m\"\u001b[39m\u001b[38;5;124m/opt/chrome/chromedriver\u001b[39m\u001b[38;5;124m\"\u001b[39m,options \u001b[38;5;241m=\u001b[39m options)\n\u001b[1;32m      7\u001b[0m driver\u001b[38;5;241m.\u001b[39mimplicitly_wait(\u001b[38;5;241m10\u001b[39m)\n\u001b[0;32m----> 8\u001b[0m \u001b[43mdriver\u001b[49m\u001b[38;5;241;43m.\u001b[39;49m\u001b[43mget\u001b[49m\u001b[43m(\u001b[49m\u001b[38;5;124;43m\"\u001b[39;49m\u001b[38;5;124;43mhttps://news.yahoo.co.jp/\u001b[39;49m\u001b[38;5;124;43m\"\u001b[39;49m\u001b[43m)\u001b[49m\n\u001b[1;32m     10\u001b[0m sleep(\u001b[38;5;241m3\u001b[39m)\n\u001b[1;32m     12\u001b[0m search_box \u001b[38;5;241m=\u001b[39m driver\u001b[38;5;241m.\u001b[39mfind_element_by_css_selector(\u001b[38;5;124m\"\u001b[39m\u001b[38;5;124minput.sc-kgoBCf.kqgEEF\u001b[39m\u001b[38;5;124m\"\u001b[39m)\n",
      "File \u001b[0;32m~/anaconda3/lib/python3.9/site-packages/selenium/webdriver/remote/webdriver.py:447\u001b[0m, in \u001b[0;36mWebDriver.get\u001b[0;34m(self, url)\u001b[0m\n\u001b[1;32m    443\u001b[0m \u001b[38;5;28;01mdef\u001b[39;00m \u001b[38;5;21mget\u001b[39m(\u001b[38;5;28mself\u001b[39m, url: \u001b[38;5;28mstr\u001b[39m) \u001b[38;5;241m-\u001b[39m\u001b[38;5;241m>\u001b[39m \u001b[38;5;28;01mNone\u001b[39;00m:\n\u001b[1;32m    444\u001b[0m     \u001b[38;5;124;03m\"\"\"\u001b[39;00m\n\u001b[1;32m    445\u001b[0m \u001b[38;5;124;03m    Loads a web page in the current browser session.\u001b[39;00m\n\u001b[1;32m    446\u001b[0m \u001b[38;5;124;03m    \"\"\"\u001b[39;00m\n\u001b[0;32m--> 447\u001b[0m     \u001b[38;5;28;43mself\u001b[39;49m\u001b[38;5;241;43m.\u001b[39;49m\u001b[43mexecute\u001b[49m\u001b[43m(\u001b[49m\u001b[43mCommand\u001b[49m\u001b[38;5;241;43m.\u001b[39;49m\u001b[43mGET\u001b[49m\u001b[43m,\u001b[49m\u001b[43m \u001b[49m\u001b[43m{\u001b[49m\u001b[38;5;124;43m'\u001b[39;49m\u001b[38;5;124;43murl\u001b[39;49m\u001b[38;5;124;43m'\u001b[39;49m\u001b[43m:\u001b[49m\u001b[43m \u001b[49m\u001b[43murl\u001b[49m\u001b[43m}\u001b[49m\u001b[43m)\u001b[49m\n",
      "File \u001b[0;32m~/anaconda3/lib/python3.9/site-packages/selenium/webdriver/remote/webdriver.py:435\u001b[0m, in \u001b[0;36mWebDriver.execute\u001b[0;34m(self, driver_command, params)\u001b[0m\n\u001b[1;32m    433\u001b[0m response \u001b[38;5;241m=\u001b[39m \u001b[38;5;28mself\u001b[39m\u001b[38;5;241m.\u001b[39mcommand_executor\u001b[38;5;241m.\u001b[39mexecute(driver_command, params)\n\u001b[1;32m    434\u001b[0m \u001b[38;5;28;01mif\u001b[39;00m response:\n\u001b[0;32m--> 435\u001b[0m     \u001b[38;5;28;43mself\u001b[39;49m\u001b[38;5;241;43m.\u001b[39;49m\u001b[43merror_handler\u001b[49m\u001b[38;5;241;43m.\u001b[39;49m\u001b[43mcheck_response\u001b[49m\u001b[43m(\u001b[49m\u001b[43mresponse\u001b[49m\u001b[43m)\u001b[49m\n\u001b[1;32m    436\u001b[0m     response[\u001b[38;5;124m'\u001b[39m\u001b[38;5;124mvalue\u001b[39m\u001b[38;5;124m'\u001b[39m] \u001b[38;5;241m=\u001b[39m \u001b[38;5;28mself\u001b[39m\u001b[38;5;241m.\u001b[39m_unwrap_value(\n\u001b[1;32m    437\u001b[0m         response\u001b[38;5;241m.\u001b[39mget(\u001b[38;5;124m'\u001b[39m\u001b[38;5;124mvalue\u001b[39m\u001b[38;5;124m'\u001b[39m, \u001b[38;5;28;01mNone\u001b[39;00m))\n\u001b[1;32m    438\u001b[0m     \u001b[38;5;28;01mreturn\u001b[39;00m response\n",
      "File \u001b[0;32m~/anaconda3/lib/python3.9/site-packages/selenium/webdriver/remote/errorhandler.py:247\u001b[0m, in \u001b[0;36mErrorHandler.check_response\u001b[0;34m(self, response)\u001b[0m\n\u001b[1;32m    245\u001b[0m         alert_text \u001b[38;5;241m=\u001b[39m value[\u001b[38;5;124m'\u001b[39m\u001b[38;5;124malert\u001b[39m\u001b[38;5;124m'\u001b[39m]\u001b[38;5;241m.\u001b[39mget(\u001b[38;5;124m'\u001b[39m\u001b[38;5;124mtext\u001b[39m\u001b[38;5;124m'\u001b[39m)\n\u001b[1;32m    246\u001b[0m     \u001b[38;5;28;01mraise\u001b[39;00m exception_class(message, screen, stacktrace, alert_text)  \u001b[38;5;66;03m# type: ignore[call-arg]  # mypy is not smart enough here\u001b[39;00m\n\u001b[0;32m--> 247\u001b[0m \u001b[38;5;28;01mraise\u001b[39;00m exception_class(message, screen, stacktrace)\n",
      "\u001b[0;31mWebDriverException\u001b[0m: Message: unknown error: session deleted because of page crash\nfrom unknown error: cannot determine loading status\nfrom tab crashed\n  (Session info: headless chrome=103.0.5060.134)\nStacktrace:\n#0 0x5589cea33cd3 <unknown>\n#1 0x5589ce83b7ff <unknown>\n#2 0x5589ce82892d <unknown>\n#3 0x5589ce828345 <unknown>\n#4 0x5589ce827795 <unknown>\n#5 0x5589ce82645f <unknown>\n#6 0x5589ce826a1c <unknown>\n#7 0x5589ce833e1f <unknown>\n#8 0x5589ce834982 <unknown>\n#9 0x5589ce842f0d <unknown>\n#10 0x5589ce846e3a <unknown>\n#11 0x5589ce826e46 <unknown>\n#12 0x5589ce842ab1 <unknown>\n#13 0x5589ce8a42ac <unknown>\n#14 0x5589ce890aa3 <unknown>\n#15 0x5589ce8663fa <unknown>\n#16 0x5589ce867555 <unknown>\n#17 0x5589cea7b2bd <unknown>\n#18 0x5589cea7f418 <unknown>\n#19 0x5589cea6536e <unknown>\n#20 0x5589cea80078 <unknown>\n#21 0x5589cea59bb0 <unknown>\n#22 0x5589cea9cd58 <unknown>\n#23 0x5589cea9ced8 <unknown>\n#24 0x5589ceab6cfd <unknown>\n#25 0x7fb1b80c6b43 <unknown>\n"
     ]
    }
   ],
   "source": [
    "options = webdriver.ChromeOptions()\n",
    "options.add_argument(\"--headless\")\n",
    "options.add_argument(\"--incognito\")\n",
    "options.add_argument(\"--no-sandbox\")\n",
    "options.binary_location = '/usr/bin/google-chrome'\n",
    "driver = webdriver.Chrome(executable_path = \"/opt/chrome/chromedriver\",options = options)\n",
    "driver.implicitly_wait(10)\n",
    "driver.get(\"https://news.yahoo.co.jp/\")\n",
    "\n",
    "sleep(3)\n",
    "\n",
    "search_box = driver.find_element_by_css_selector(\"input.sc-kgoBCf.kqgEEF\")\n",
    "sleep(3)\n",
    "\n",
    "search_box.send_keys(\"機械学習\")\n",
    "sleep(3)\n",
    "\n",
    "search_box.submit()\n",
    "sleep(3)\n",
    "\n",
    "driver.quit()\n",
    "\n",
    "\n",
    "\n",
    "\n"
   ]
  },
  {
   "cell_type": "code",
   "execution_count": null,
   "id": "ad878e8b-0b32-4f0b-abaf-e6c4e18154d6",
   "metadata": {},
   "outputs": [],
   "source": []
  }
 ],
 "metadata": {
  "kernelspec": {
   "display_name": "Python 3 (ipykernel)",
   "language": "python",
   "name": "python3"
  },
  "language_info": {
   "codemirror_mode": {
    "name": "ipython",
    "version": 3
   },
   "file_extension": ".py",
   "mimetype": "text/x-python",
   "name": "python",
   "nbconvert_exporter": "python",
   "pygments_lexer": "ipython3",
   "version": "3.9.12"
  }
 },
 "nbformat": 4,
 "nbformat_minor": 5
}
