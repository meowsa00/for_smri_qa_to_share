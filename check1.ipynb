{
 "cells": [
  {
   "cell_type": "code",
   "execution_count": 1,
   "id": "56000b68-9336-4375-b4ce-8c53fa39aadd",
   "metadata": {},
   "outputs": [],
   "source": [
    "from time import sleep\n",
    "import requests\n",
    "from bs4 import BeautifulSoup\n",
    "import pandas as pd\n",
    "#条件の絞り込みをかけたページURL\n",
    "#https://employment.en-japan.com/wish/search_list/?companytype=0&worktype=0&areaid=23_24_21_50&occupation=101000_102500_103000_103500_104500_105000_105500_109000&indexNoWishArea=0&sort=wish"
   ]
  },
  {
   "cell_type": "code",
   "execution_count": 2,
   "id": "4bee19b2-f7f1-45b5-94a7-3ea73a061e2b",
   "metadata": {},
   "outputs": [],
   "source": [
    "url = \"https://employment.en-japan.com/desc_1131009/?arearoute=1&aroute=17&PK=A95D35\""
   ]
  },
  {
   "cell_type": "code",
   "execution_count": 3,
   "id": "78e8b513-0e76-4840-963a-96dbd1fd6b9d",
   "metadata": {},
   "outputs": [
    {
     "name": "stdout",
     "output_type": "stream",
     "text": [
      "<div class=\"descArticleUnit dataCompanyInfoSummary\">\n",
      "<div class=\"title\"><h2 class=\"text\">会社概要<span class=\"name\">株式会社エフ・オー・プランニング</span></h2></div>\n",
      "<div class=\"engageLink\">\n",
      "<div class=\"photoSlider\">\n",
      "<div class=\"\">\n",
      "<div class=\"swiper-wrapper\">\n",
      "<a class=\"photoArea swiper-slide\" href=\"https://en-gage.net/fop-japan_saiyo1\" target=\"_blank\">\n",
      "<div class=\"catch\"><div class=\"copy over\"><div class=\"main\">仕事が面白いって気づけた。<br/>自分の可能性も広がった。</div><div class=\"sub\">株式会社エフ・オー・プランニング</div></div></div>\n",
      "<div class=\"img\" style=\"background-image: url(https://empimg.en-japan.com/%2Fapi%2Fengage%2Fshow_file%2Fmain_panel%2F474081%2F2%2F);\"></div>\n",
      "</a>\n",
      "</div>\n",
      "</div>\n",
      "</div>\n",
      "</div>\n",
      "<div class=\"contents\">\n",
      "<table class=\"dataTable\">\n",
      "<tr>\n",
      "<th class=\"item\">会社名</th>\n",
      "<td class=\"data\"><a class=\"_aroute_add_param_no_window\" href=\"/comp-56110/\">株式会社エフ・オー・プランニング</a></td>\n",
      "</tr>\n",
      "<tr>\n",
      "<th class=\"item\">設立</th>\n",
      "<td class=\"data\">1987年10月</td>\n",
      "</tr>\n",
      "<tr>\n",
      "<th class=\"item\">代表者</th>\n",
      "<td class=\"data\">代表取締役社長　岡本 力</td>\n",
      "</tr>\n",
      "<tr>\n",
      "<th class=\"item\">資本金</th>\n",
      "<td class=\"data\">1000万円</td>\n",
      "</tr>\n",
      "<tr>\n",
      "<th class=\"item\">従業員数</th>\n",
      "<td class=\"data\">850名</td>\n",
      "</tr>\n",
      "<tr>\n",
      "<th class=\"item\">売上高</th>\n",
      "<td class=\"data\">114億円（2018年8月期実績）<br/>118億円（2017年8月期実績）<br/>111億円（2016年8月期実績）<br/>105億円（2015年8月期実績）<br/>95億円（2014年8月期実績）</td>\n",
      "</tr>\n",
      "<tr>\n",
      "<th class=\"item\">事業内容</th>\n",
      "<td class=\"data\">家電量販店を中心とした人材派遣サービス<br/><br/>人材派遣業（一般労働者派遣事業許可番号　派13-300146）<br/>有料職業紹介業（有料職業紹介事業許可番号　13-ユ-302636）</td>\n",
      "</tr>\n",
      "<tr>\n",
      "<th class=\"item\">事業所</th>\n",
      "<td class=\"data\">本社／東京都目黒区下目黒1-1-11　目黒東洋ビル7F<br/>東北支店／宮城県仙台市宮城野区榴岡2-4-22　仙台東口ビル8F<br/>関西支店／大阪府大阪市北区芝田1-4-14　芝田町ビル3F<br/>札幌営業所／北海道札幌市中央区北4条西7-1-5　NCO札幌ホワイトビル7F<br/>福岡営業所／福岡県福岡市博多区博多駅東2-5-28　博多偕成ビル9F<br/>京都営業所／京都府京都市下京区七条通り東洞院東入北側材木町499-2　第一キョートビル3F<br/>名古屋営業所／愛知県名古屋市中区栄4-3-26　昭和ビル2F</td>\n",
      "</tr>\n",
      "<tr>\n",
      "<th class=\"item\">主要取引先</th>\n",
      "<td class=\"data\">株式会社ヨドバシカメラ<br/>兼松コミュニケーションズ株式会社<br/>株式会社エヌ・ティ・ティ・アド<br/>株式会社ティーガイア<br/>コネクシオ株式会社<br/>ソフトバンク株式会社<br/>UQコミュニケーションズ株式会社<br/>ビッグローブ株式会社<br/>株式会社オプテージ<br/>LINEモバイル株式会社<br/>株式会社インターネットイニシアティブ</td>\n",
      "</tr>\n",
      "<tr>\n",
      "<th class=\"item\">主要取引先</th>\n",
      "<td class=\"data\">株式会社ジュピターテレコム<br/>楽天モバイル株式会社<br/>ソニーマーケティング株式会社<br/>ソニーコンスーマーセールス株式会社<br/>富士通クライアントコンピューティング株式会社<br/>華為技術日本株式会社<br/>シャープマーケティングジャパン株式会社<br/>パナソニックコンシューマーマーケティング株式会社<br/>Dynabook株式会社<br/>セイコーウオッチ株式会社<br/>ガーミンジャパン株式会社<br/>他（順不同）</td>\n",
      "</tr>\n",
      "<tr>\n",
      "<th class=\"item\">企業ホームページ</th>\n",
      "<td class=\"data\">\n",
      "<a class=\"previewOption\" href=\"http://www.fop-japan.co.jp/\" target=\"_blank\">http://www.fop-japan.co.jp/</a>\n",
      "</td>\n",
      "</tr>\n",
      "<tr>\n",
      "<th class=\"item\">採用ホームページ</th>\n",
      "<td class=\"data data--url\">仕事が面白いって気づけた。自分の可能性も広がった。　株式会社エフ・オー・プラン…<br/> <a href=\"https://en-gage.net/fop-japan_saiyo1\" target=\"_blank\">https://en-gage.net/fop-japan_saiyo1</a>\n",
      "</td>\n",
      "</tr>\n",
      "</table>\n",
      "</div>\n",
      "</div>\n",
      "http://www.fop-japan.co.jp/\n"
     ]
    }
   ],
   "source": [
    "r = requests.get(url)\n",
    "r.raise_for_status()\n",
    "soup = BeautifulSoup(r.content,\"lxml\")\n",
    "\n",
    "company_url = None\n",
    "\n",
    "company_summary = soup.find(\"div\",class_=\"descArticleUnit dataCompanyInfoSummary\")\n",
    "print(company_summary)\n",
    "for table_row in company_summary.find_all(\"tr\"):\n",
    "    if table_row.find(\"th\").text == \"企業ホームページ\":\n",
    "        company_url = table_row.find(\"td\").find(\"a\").text\n",
    "print(company_url)"
   ]
  },
  {
   "cell_type": "code",
   "execution_count": null,
   "id": "51832a7c-6596-411c-98d6-77f4c6615533",
   "metadata": {},
   "outputs": [],
   "source": []
  }
 ],
 "metadata": {
  "kernelspec": {
   "display_name": "Python 3 (ipykernel)",
   "language": "python",
   "name": "python3"
  },
  "language_info": {
   "codemirror_mode": {
    "name": "ipython",
    "version": 3
   },
   "file_extension": ".py",
   "mimetype": "text/x-python",
   "name": "python",
   "nbconvert_exporter": "python",
   "pygments_lexer": "ipython3",
   "version": "3.9.7"
  }
 },
 "nbformat": 4,
 "nbformat_minor": 5
}
